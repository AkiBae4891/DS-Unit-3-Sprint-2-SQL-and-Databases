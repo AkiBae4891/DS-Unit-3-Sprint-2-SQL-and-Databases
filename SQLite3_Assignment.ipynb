{
  "nbformat": 4,
  "nbformat_minor": 0,
  "metadata": {
    "colab": {
      "name": "SQLite3 Assignment.ipynb",
      "version": "0.3.2",
      "provenance": [],
      "collapsed_sections": [],
      "include_colab_link": true
    },
    "kernelspec": {
      "name": "python3",
      "display_name": "Python 3"
    }
  },
  "cells": [
    {
      "cell_type": "markdown",
      "metadata": {
        "id": "view-in-github",
        "colab_type": "text"
      },
      "source": [
        "<a href=\"https://colab.research.google.com/github/AkiBae4891/DS-Unit-3-Sprint-2-SQL-and-Databases/blob/master/SQLite3_Assignment.ipynb\" target=\"_parent\"><img src=\"https://colab.research.google.com/assets/colab-badge.svg\" alt=\"Open In Colab\"/></a>"
      ]
    },
    {
      "cell_type": "markdown",
      "metadata": {
        "id": "JH5gKEowugfx",
        "colab_type": "text"
      },
      "source": [
        "##Import SQLite 3 and load the DB"
      ]
    },
    {
      "cell_type": "code",
      "metadata": {
        "id": "6gVk_gxkuBKh",
        "colab_type": "code",
        "colab": {}
      },
      "source": [
        "import sqlite3\n",
        "conn = sqlite3.connect('rpg_db.sqlite3')\n",
        "curs = conn.cursor()"
      ],
      "execution_count": 0,
      "outputs": []
    },
    {
      "cell_type": "code",
      "metadata": {
        "id": "P8Iio4usurnF",
        "colab_type": "code",
        "colab": {}
      },
      "source": [
        "query = \"\"\"SELECT * \n",
        "FROM charactercreator_character \n",
        "INNER JOIN charactercreator_mage \n",
        "ON character_id = character_ptr_id;\"\"\"\n",
        "\n",
        "curs.execute(query)\n",
        "results = curs.fetchone()\n",
        "remaining_results = curs.fetchall()"
      ],
      "execution_count": 0,
      "outputs": []
    },
    {
      "cell_type": "code",
      "metadata": {
        "id": "LtnkilwIsADc",
        "colab_type": "code",
        "colab": {
          "base_uri": "https://localhost:8080/",
          "height": 34
        },
        "outputId": "65baf1ad-b6db-43bc-add5-c454c89f0371"
      },
      "source": [
        "results\n"
      ],
      "execution_count": 8,
      "outputs": [
        {
          "output_type": "execute_result",
          "data": {
            "text/plain": [
              "(69, 'Totam natus eius fugiat volu', 0, 0, 10, 1, 1, 1, 1, 69, 1, 100)"
            ]
          },
          "metadata": {
            "tags": []
          },
          "execution_count": 8
        }
      ]
    },
    {
      "cell_type": "code",
      "metadata": {
        "id": "NdeTXGZesIEF",
        "colab_type": "code",
        "colab": {
          "base_uri": "https://localhost:8080/",
          "height": 1000
        },
        "outputId": "c8199cb2-2323-49be-b670-fadb7c1900eb"
      },
      "source": [
        "remaining_results"
      ],
      "execution_count": 9,
      "outputs": [
        {
          "output_type": "execute_result",
          "data": {
            "text/plain": [
              "[(70, 'Perferendis commodi null', 0, 0, 10, 1, 1, 1, 1, 70, 1, 100),\n",
              " (71, 'Laudantiu', 0, 0, 10, 1, 1, 1, 1, 71, 1, 100),\n",
              " (72, 'Voluptat', 0, 0, 10, 1, 1, 1, 1, 72, 1, 100),\n",
              " (73, 'Incidunt nesciun', 0, 0, 10, 1, 1, 1, 1, 73, 1, 100),\n",
              " (74, 'Illum amet vero', 0, 0, 10, 1, 1, 1, 1, 74, 1, 100),\n",
              " (75, 'Suscipit exercitationem re', 0, 0, 10, 1, 1, 1, 1, 75, 1, 100),\n",
              " (76, 'Quas enim error maxime nisi m', 0, 0, 10, 1, 1, 1, 1, 76, 1, 100),\n",
              " (77, 'Labore qu', 0, 0, 10, 1, 1, 1, 1, 77, 1, 100),\n",
              " (78, 'Repudiandae deleniti unde', 0, 0, 10, 1, 1, 1, 1, 78, 1, 100),\n",
              " (79, 'Ut do', 0, 0, 10, 1, 1, 1, 1, 79, 1, 100),\n",
              " (80, 'Quaerat esse labore q', 0, 0, 10, 1, 1, 1, 1, 80, 1, 100),\n",
              " (81, 'Quidem aliq', 0, 0, 10, 1, 1, 1, 1, 81, 1, 100),\n",
              " (82, 'Aperiam vitae eos dolor sed', 0, 0, 10, 1, 1, 1, 1, 82, 1, 100),\n",
              " (83, 'Minus nobis porro', 0, 0, 10, 1, 1, 1, 1, 83, 1, 100),\n",
              " (84, 'In similique', 0, 0, 10, 1, 1, 1, 1, 84, 1, 100),\n",
              " (85, 'Culpa repellat unde', 0, 0, 10, 1, 1, 1, 1, 85, 1, 100),\n",
              " (86, 'Architecto i', 0, 0, 10, 1, 1, 1, 1, 86, 1, 100),\n",
              " (87, 'A sed pariatur qua', 0, 0, 10, 1, 1, 1, 1, 87, 1, 100),\n",
              " (88, 'Tempore assumenda aperiam', 0, 0, 10, 1, 1, 1, 1, 88, 1, 100),\n",
              " (89, 'Sed ullam tempora iusto co', 0, 0, 10, 1, 1, 1, 1, 89, 1, 100),\n",
              " (90, 'Ipsa', 0, 0, 10, 1, 1, 1, 1, 90, 1, 100),\n",
              " (91, 'Fugiat incidun', 0, 0, 10, 1, 1, 1, 1, 91, 1, 100),\n",
              " (92, 'Molestiae of', 0, 0, 10, 1, 1, 1, 1, 92, 1, 100),\n",
              " (93, 'Quae quisquam cons', 0, 0, 10, 1, 1, 1, 1, 93, 1, 100),\n",
              " (94, 'Repellendus ea non facil', 0, 0, 10, 1, 1, 1, 1, 94, 1, 100),\n",
              " (95, 'Quod non quibu', 0, 0, 10, 1, 1, 1, 1, 95, 1, 100),\n",
              " (96, 'Numquam velit distinctio', 0, 0, 10, 1, 1, 1, 1, 96, 1, 100),\n",
              " (97, 'Necessitatibus nihil ex debi', 0, 0, 10, 1, 1, 1, 1, 97, 1, 100),\n",
              " (98, 'Velit tempore nemo, na', 0, 0, 10, 1, 1, 1, 1, 98, 1, 100),\n",
              " (99, 'Nesciunt v', 0, 0, 10, 1, 1, 1, 1, 99, 1, 100),\n",
              " (100, 'Dicta enim debitis accusantiu', 0, 0, 10, 1, 1, 1, 1, 100, 1, 100),\n",
              " (101, 'Vitae a', 0, 0, 10, 1, 1, 1, 1, 101, 1, 100),\n",
              " (102, 'Praesentium voluptas u', 0, 0, 10, 1, 1, 1, 1, 102, 1, 100),\n",
              " (103, 'Unde ullam mollitia? Nu', 0, 0, 10, 1, 1, 1, 1, 103, 1, 100),\n",
              " (104, 'Neque molestias qu', 0, 0, 10, 1, 1, 1, 1, 104, 1, 100),\n",
              " (105, 'Officiis es', 0, 0, 10, 1, 1, 1, 1, 105, 1, 100),\n",
              " (106, 'Beatae mi', 0, 0, 10, 1, 1, 1, 1, 106, 1, 100),\n",
              " (107, 'Mollitia nam corporis temp', 0, 0, 10, 1, 1, 1, 1, 107, 1, 100),\n",
              " (108, 'Repudiandae repellat i', 0, 0, 10, 1, 1, 1, 1, 108, 1, 100),\n",
              " (109, 'Laboriosam', 0, 0, 10, 1, 1, 1, 1, 109, 1, 100),\n",
              " (110, 'Nam minus amet', 0, 0, 10, 1, 1, 1, 1, 110, 1, 100),\n",
              " (111, 'Harum quae volup', 0, 0, 10, 1, 1, 1, 1, 111, 1, 100),\n",
              " (112, 'Impedit facere ulla', 0, 0, 10, 1, 1, 1, 1, 112, 1, 100),\n",
              " (113, 'Enim', 0, 0, 10, 1, 1, 1, 1, 113, 1, 100),\n",
              " (114, 'Dolore magni', 0, 0, 10, 1, 1, 1, 1, 114, 1, 100),\n",
              " (115, 'Eaque at corpori', 0, 0, 10, 1, 1, 1, 1, 115, 1, 100),\n",
              " (116, 'Fug', 0, 0, 10, 1, 1, 1, 1, 116, 1, 100),\n",
              " (117, 'Dolorum laudanti', 0, 0, 10, 1, 1, 1, 1, 117, 1, 100),\n",
              " (118, 'Perferendis nat', 0, 0, 10, 1, 1, 1, 1, 118, 1, 100),\n",
              " (119, 'Cupidi', 0, 0, 10, 1, 1, 1, 1, 119, 1, 100),\n",
              " (120, 'Commodi eius dicta digniss', 0, 0, 10, 1, 1, 1, 1, 120, 1, 100),\n",
              " (121, 'Debitis eu', 0, 0, 10, 1, 1, 1, 1, 121, 1, 100),\n",
              " (122, 'Nihil repella', 0, 0, 10, 1, 1, 1, 1, 122, 1, 100),\n",
              " (123, 'Rem quasi minima hic sed anim', 0, 0, 10, 1, 1, 1, 1, 123, 1, 100),\n",
              " (124, 'Sed ali', 0, 0, 10, 1, 1, 1, 1, 124, 1, 100),\n",
              " (125, 'Earum vol', 0, 0, 10, 1, 1, 1, 1, 125, 1, 100),\n",
              " (126, 'Inventore tempore com', 0, 0, 10, 1, 1, 1, 1, 126, 1, 100),\n",
              " (127, 'Repell', 0, 0, 10, 1, 1, 1, 1, 127, 1, 100),\n",
              " (128, 'Consequatur quis recusandae qu', 0, 0, 10, 1, 1, 1, 1, 128, 1, 100),\n",
              " (129, 'Dolores ea velit mi', 0, 0, 10, 1, 1, 1, 1, 129, 1, 100),\n",
              " (130, 'Atque blanditiis a aperiam', 0, 0, 10, 1, 1, 1, 1, 130, 1, 100),\n",
              " (131, 'Reprehenderit sequi iu', 0, 0, 10, 1, 1, 1, 1, 131, 1, 100),\n",
              " (132, 'Natus architecto eos, hic blan', 0, 0, 10, 1, 1, 1, 1, 132, 1, 100),\n",
              " (133, 'Ipsa illo quas', 0, 0, 10, 1, 1, 1, 1, 133, 1, 100),\n",
              " (134, 'Voluptas ali', 0, 0, 10, 1, 1, 1, 1, 134, 1, 100),\n",
              " (135, 'Voluptates obcaecati quod e', 0, 0, 10, 1, 1, 1, 1, 135, 1, 100),\n",
              " (136, 'Dolor adipisci a voluptate', 0, 0, 10, 1, 1, 1, 1, 136, 1, 100),\n",
              " (137, 'Repellendus natus quae, n', 0, 0, 10, 1, 1, 1, 1, 137, 1, 100),\n",
              " (138, 'Laudantium earum nam in dol', 0, 0, 10, 1, 1, 1, 1, 138, 1, 100),\n",
              " (139, 'Molestias face', 0, 0, 10, 1, 1, 1, 1, 139, 1, 100),\n",
              " (140, 'Maiores suscipit exc', 0, 0, 10, 1, 1, 1, 1, 140, 1, 100),\n",
              " (141, 'Illum dolore perferen', 0, 0, 10, 1, 1, 1, 1, 141, 1, 100),\n",
              " (142, 'Explicabo recusandae ma', 0, 0, 10, 1, 1, 1, 1, 142, 1, 100),\n",
              " (143, 'Odio obcaecati hic nostrum n', 0, 0, 10, 1, 1, 1, 1, 143, 1, 100),\n",
              " (144, 'Voluptate ali', 0, 0, 10, 1, 1, 1, 1, 144, 1, 100),\n",
              " (145, 'Repudiandae vitae sapiente mol', 0, 0, 10, 1, 1, 1, 1, 145, 1, 100),\n",
              " (146, 'Ipsam cumque', 0, 0, 10, 1, 1, 1, 1, 146, 1, 100),\n",
              " (147, 'Fugiat quos alias eos dese', 0, 0, 10, 1, 1, 1, 1, 147, 1, 100),\n",
              " (148, 'Eaque impe', 0, 0, 10, 1, 1, 1, 1, 148, 1, 100),\n",
              " (149, 'Elige', 0, 0, 10, 1, 1, 1, 1, 149, 1, 100),\n",
              " (150, 'Adip', 0, 0, 10, 1, 1, 1, 1, 150, 1, 100),\n",
              " (151, 'Fuga nemo vel mo', 0, 0, 10, 1, 1, 1, 1, 151, 1, 100),\n",
              " (152, 'Libero cumque impedit eveniet', 0, 0, 10, 1, 1, 1, 1, 152, 1, 100),\n",
              " (153, 'Odio soluta', 0, 0, 10, 1, 1, 1, 1, 153, 1, 100),\n",
              " (154, 'Vero nostrum duc', 0, 0, 10, 1, 1, 1, 1, 154, 1, 100),\n",
              " (155, 'Repellend', 0, 0, 10, 1, 1, 1, 1, 155, 1, 100),\n",
              " (156, 'Quod', 0, 0, 10, 1, 1, 1, 1, 156, 1, 100),\n",
              " (157, 'Suscipit reiciend', 0, 0, 10, 1, 1, 1, 1, 157, 1, 100),\n",
              " (158, 'Voluptat', 0, 0, 10, 1, 1, 1, 1, 158, 1, 100),\n",
              " (159, 'Porro dolor fuga quam', 0, 0, 10, 1, 1, 1, 1, 159, 1, 100),\n",
              " (160, 'Amet quo fugit aliquam sequi', 0, 0, 10, 1, 1, 1, 1, 160, 1, 100),\n",
              " (161, 'Magni adipisci veritatis sit q', 0, 0, 10, 1, 1, 1, 1, 161, 1, 100),\n",
              " (162, 'Debitis enim cumque cum qu', 0, 0, 10, 1, 1, 1, 1, 162, 1, 100),\n",
              " (163, 'Dolorem eligend', 0, 0, 10, 1, 1, 1, 1, 163, 1, 100),\n",
              " (164, 'Autem lib', 0, 0, 10, 1, 1, 1, 1, 164, 1, 100),\n",
              " (165, 'Saepe assumenda perferendis f', 0, 0, 10, 1, 1, 1, 1, 165, 1, 100),\n",
              " (292, 'Vero a', 0, 0, 10, 1, 1, 1, 1, 292, 1, 100),\n",
              " (293, 'Optio harum labori', 0, 0, 10, 1, 1, 1, 1, 293, 1, 100),\n",
              " (294, 'Duci', 0, 0, 10, 1, 1, 1, 1, 294, 1, 100),\n",
              " (295, 'Ipsa elige', 0, 0, 10, 1, 1, 1, 1, 295, 1, 100),\n",
              " (296, 'Sunt blanditiis i', 0, 0, 10, 1, 1, 1, 1, 296, 1, 100),\n",
              " (297, 'Doloremque', 0, 0, 10, 1, 1, 1, 1, 297, 1, 100),\n",
              " (298, 'Autem ratione vitae quos, do', 0, 0, 10, 1, 1, 1, 1, 298, 1, 100),\n",
              " (299, 'Voluptatibus aliquid', 0, 0, 10, 1, 1, 1, 1, 299, 1, 100),\n",
              " (300, 'Quaerat sequi sit eius corpori', 0, 0, 10, 1, 1, 1, 1, 300, 1, 100),\n",
              " (301, 'Libe', 0, 0, 10, 1, 1, 1, 1, 301, 1, 100),\n",
              " (302, 'Aliquam n', 0, 0, 10, 1, 1, 1, 1, 302, 1, 100)]"
            ]
          },
          "metadata": {
            "tags": []
          },
          "execution_count": 9
        }
      ]
    },
    {
      "cell_type": "markdown",
      "metadata": {
        "id": "kSQhtxJ61ykG",
        "colab_type": "text"
      },
      "source": [
        "## How many total characters?"
      ]
    },
    {
      "cell_type": "markdown",
      "metadata": {
        "id": "-Nl0UnjH212q",
        "colab_type": "text"
      },
      "source": [
        "### There are 302 characters "
      ]
    },
    {
      "cell_type": "code",
      "metadata": {
        "id": "EPLAiujc11_D",
        "colab_type": "code",
        "outputId": "8901bfb1-d609-458e-eb4f-aea43f0aeaa4",
        "colab": {
          "base_uri": "https://localhost:8080/",
          "height": 34
        }
      },
      "source": [
        "query = \"\"\"SELECT COUNT(character_id) FROM charactercreator_character;\"\"\"\n",
        "curs.execute(query)\n",
        "curs.fetchall()"
      ],
      "execution_count": 10,
      "outputs": [
        {
          "output_type": "execute_result",
          "data": {
            "text/plain": [
              "[(302,)]"
            ]
          },
          "metadata": {
            "tags": []
          },
          "execution_count": 10
        }
      ]
    },
    {
      "cell_type": "markdown",
      "metadata": {
        "id": "x9yOB9-d7bT4",
        "colab_type": "text"
      },
      "source": [
        "### How many of each specific Subclass"
      ]
    },
    {
      "cell_type": "code",
      "metadata": {
        "id": "4Y5yN4Lz7dun",
        "colab_type": "code",
        "outputId": "51466d9a-4a67-4378-8033-5a994e036372",
        "colab": {
          "base_uri": "https://localhost:8080/",
          "height": 34
        }
      },
      "source": [
        "#Cleric\n",
        "query = \"\"\"SELECT COUNT(character_ptr_id) \n",
        "FROM charactercreator_cleric;\"\"\"\n",
        "curs.execute(query)\n",
        "curs.fetchall()"
      ],
      "execution_count": 11,
      "outputs": [
        {
          "output_type": "execute_result",
          "data": {
            "text/plain": [
              "[(75,)]"
            ]
          },
          "metadata": {
            "tags": []
          },
          "execution_count": 11
        }
      ]
    },
    {
      "cell_type": "code",
      "metadata": {
        "id": "OIBqzr4QDdXT",
        "colab_type": "code",
        "colab": {
          "base_uri": "https://localhost:8080/",
          "height": 34
        },
        "outputId": "3196d547-74f6-4e73-b153-cb7fa91cc700"
      },
      "source": [
        "#Fighter\n",
        "query = \"\"\"SELECT COUNT(character_ptr_id) \n",
        "FROM charactercreator_fighter;\"\"\"\n",
        "curs.execute(query)\n",
        "curs.fetchall()"
      ],
      "execution_count": 12,
      "outputs": [
        {
          "output_type": "execute_result",
          "data": {
            "text/plain": [
              "[(68,)]"
            ]
          },
          "metadata": {
            "tags": []
          },
          "execution_count": 12
        }
      ]
    },
    {
      "cell_type": "code",
      "metadata": {
        "id": "S6YVGjILwiBf",
        "colab_type": "code",
        "colab": {
          "base_uri": "https://localhost:8080/",
          "height": 34
        },
        "outputId": "80f1cde8-883f-4759-f1b4-cfae2a6c174a"
      },
      "source": [
        "#Mage\n",
        "query = \"\"\"SELECT COUNT(character_ptr_id) \n",
        "FROM charactercreator_mage;\"\"\"\n",
        "curs.execute(query)\n",
        "curs.fetchall()"
      ],
      "execution_count": 13,
      "outputs": [
        {
          "output_type": "execute_result",
          "data": {
            "text/plain": [
              "[(108,)]"
            ]
          },
          "metadata": {
            "tags": []
          },
          "execution_count": 13
        }
      ]
    },
    {
      "cell_type": "code",
      "metadata": {
        "id": "MRRbm69DwpX-",
        "colab_type": "code",
        "colab": {
          "base_uri": "https://localhost:8080/",
          "height": 34
        },
        "outputId": "05e023b4-61ae-417e-f801-9c0a49811ccf"
      },
      "source": [
        "#Necromancer\n",
        "query = \"\"\"SELECT COUNT(mage_ptr_id) \n",
        "FROM charactercreator_necromancer;\"\"\"\n",
        "curs.execute(query)\n",
        "curs.fetchall()"
      ],
      "execution_count": 16,
      "outputs": [
        {
          "output_type": "execute_result",
          "data": {
            "text/plain": [
              "[(11,)]"
            ]
          },
          "metadata": {
            "tags": []
          },
          "execution_count": 16
        }
      ]
    },
    {
      "cell_type": "code",
      "metadata": {
        "id": "0WODENveDWrz",
        "colab_type": "code",
        "colab": {
          "base_uri": "https://localhost:8080/",
          "height": 34
        },
        "outputId": "48bebf21-32a8-411c-9f71-84f6957a0ae4"
      },
      "source": [
        "#Thief\n",
        "query = \"\"\"SELECT COUNT(character_ptr_id) \n",
        "FROM charactercreator_thief;\"\"\"\n",
        "curs.execute(query)\n",
        "curs.fetchall()"
      ],
      "execution_count": 15,
      "outputs": [
        {
          "output_type": "execute_result",
          "data": {
            "text/plain": [
              "[(51,)]"
            ]
          },
          "metadata": {
            "tags": []
          },
          "execution_count": 15
        }
      ]
    },
    {
      "cell_type": "markdown",
      "metadata": {
        "id": "B7Hr1ZbCEjjJ",
        "colab_type": "text"
      },
      "source": [
        "### How many total Items?"
      ]
    },
    {
      "cell_type": "code",
      "metadata": {
        "id": "LsLw6hE4FIcn",
        "colab_type": "code",
        "colab": {
          "base_uri": "https://localhost:8080/",
          "height": 34
        },
        "outputId": "3bdd6861-3b3e-472c-b3d1-d19a22a7b8f2"
      },
      "source": [
        "query = \"\"\"SELECT COUNT(item_id)\n",
        "FROM armory_item\"\"\"\n",
        "curs.execute(query)\n",
        "curs.fetchall()"
      ],
      "execution_count": 17,
      "outputs": [
        {
          "output_type": "execute_result",
          "data": {
            "text/plain": [
              "[(174,)]"
            ]
          },
          "metadata": {
            "tags": []
          },
          "execution_count": 17
        }
      ]
    },
    {
      "cell_type": "markdown",
      "metadata": {
        "id": "P4-iQJ3CJP2F",
        "colab_type": "text"
      },
      "source": [
        "### How many of the Items are weapons? How many are not?"
      ]
    },
    {
      "cell_type": "code",
      "metadata": {
        "id": "0LETChGyJTy_",
        "colab_type": "code",
        "colab": {
          "base_uri": "https://localhost:8080/",
          "height": 34
        },
        "outputId": "aabcb6c8-ad2c-420c-a590-0b60fca947f1"
      },
      "source": [
        "# add up all items, add up weapons, then subtract weapons. Easy solution \n",
        "query1 = \"\"\"SELECT COUNT(item_id)\n",
        "FROM armory_item\"\"\"\n",
        "curs.execute(query1)\n",
        "curs.fetchall()"
      ],
      "execution_count": 19,
      "outputs": [
        {
          "output_type": "execute_result",
          "data": {
            "text/plain": [
              "[(174,)]"
            ]
          },
          "metadata": {
            "tags": []
          },
          "execution_count": 19
        }
      ]
    },
    {
      "cell_type": "code",
      "metadata": {
        "id": "1t4UnflDzFDK",
        "colab_type": "code",
        "colab": {
          "base_uri": "https://localhost:8080/",
          "height": 34
        },
        "outputId": "af7c7ae1-4c75-4a30-e43a-829f6f17203e"
      },
      "source": [
        "query2 = \"\"\"SELECT COUNT(item_ptr_id)\n",
        "FROM armory_weapon\"\"\"\n",
        "curs.execute(query2)\n",
        "curs.fetchall()"
      ],
      "execution_count": 20,
      "outputs": [
        {
          "output_type": "execute_result",
          "data": {
            "text/plain": [
              "[(37,)]"
            ]
          },
          "metadata": {
            "tags": []
          },
          "execution_count": 20
        }
      ]
    },
    {
      "cell_type": "markdown",
      "metadata": {
        "id": "p3EMnXigJYUn",
        "colab_type": "text"
      },
      "source": [
        "### How many Items does each character have? (Return first 20 rows)"
      ]
    },
    {
      "cell_type": "code",
      "metadata": {
        "id": "IYLr344lJcZQ",
        "colab_type": "code",
        "colab": {
          "base_uri": "https://localhost:8080/",
          "height": 34
        },
        "outputId": "6562e630-d66f-402f-e272-1324a8557349"
      },
      "source": [
        "# *****************************************************************\n",
        "query = \"\"\"SELECT COUNT(item_id)\n",
        "FROM charactercreator_character \n",
        "INNER JOIN armory_item \n",
        "ON character_id = item_id LIMIT 20;\"\"\"\n",
        "curs.execute(query)\n",
        "curs.fetchall()"
      ],
      "execution_count": 39,
      "outputs": [
        {
          "output_type": "execute_result",
          "data": {
            "text/plain": [
              "[(174,)]"
            ]
          },
          "metadata": {
            "tags": []
          },
          "execution_count": 39
        }
      ]
    },
    {
      "cell_type": "markdown",
      "metadata": {
        "id": "1JvX4Cpq5NOk",
        "colab_type": "text"
      },
      "source": [
        "### How many weapons does each character have? (Return first 20 rows)"
      ]
    },
    {
      "cell_type": "code",
      "metadata": {
        "id": "2jfiqQMu4Nfp",
        "colab_type": "code",
        "colab": {}
      },
      "source": [
        "# ******************************************************************\n",
        "query = \"\"\"SELECT COUNT(item_id)\n",
        "FROM charactercreator_character \n",
        "INNER JOIN armory_weapon \n",
        "ON character_id = item_id LIMIT 20;\"\"\"\n",
        "curs.execute(query)\n",
        "curs.fetchall()"
      ],
      "execution_count": 0,
      "outputs": []
    },
    {
      "cell_type": "markdown",
      "metadata": {
        "id": "MkpJ8LIM5kkV",
        "colab_type": "text"
      },
      "source": [
        "### On average, how many Items does each Character have? \n",
        "###On average, how many weapons does each Character have?"
      ]
    },
    {
      "cell_type": "code",
      "metadata": {
        "id": "qimJzcAy64Gr",
        "colab_type": "code",
        "colab": {
          "base_uri": "https://localhost:8080/",
          "height": 34
        },
        "outputId": "6c0ae431-1185-4370-b25f-a67f81c1f642"
      },
      "source": [
        "query = \"\"\"SELECT AVG(item_id)\n",
        "FROM armory_item\"\"\"\n",
        "curs.execute(query)\n",
        "curs.fetchall()"
      ],
      "execution_count": 40,
      "outputs": [
        {
          "output_type": "execute_result",
          "data": {
            "text/plain": [
              "[(87.5,)]"
            ]
          },
          "metadata": {
            "tags": []
          },
          "execution_count": 40
        }
      ]
    },
    {
      "cell_type": "code",
      "metadata": {
        "id": "lM1FO12u7L1B",
        "colab_type": "code",
        "colab": {
          "base_uri": "https://localhost:8080/",
          "height": 34
        },
        "outputId": "e8a52b40-ba31-4f60-9487-e41dfee10408"
      },
      "source": [
        "query = \"\"\"SELECT AVG(item_ptr_id)\n",
        "FROM armory_weapon\"\"\"\n",
        "curs.execute(query)\n",
        "curs.fetchall()"
      ],
      "execution_count": 41,
      "outputs": [
        {
          "output_type": "execute_result",
          "data": {
            "text/plain": [
              "[(156.0,)]"
            ]
          },
          "metadata": {
            "tags": []
          },
          "execution_count": 41
        }
      ]
    },
    {
      "cell_type": "markdown",
      "metadata": {
        "id": "eKx-Z9fA7oHN",
        "colab_type": "text"
      },
      "source": [
        "# Buddymove Dataset; Assignment 2"
      ]
    },
    {
      "cell_type": "code",
      "metadata": {
        "id": "xiHJJnkq9Vmk",
        "colab_type": "code",
        "colab": {}
      },
      "source": [
        "import pandas as pd\n",
        "from sqlalchemy import create_engine\n"
      ],
      "execution_count": 0,
      "outputs": []
    },
    {
      "cell_type": "code",
      "metadata": {
        "id": "EVKSFVjR7tkc",
        "colab_type": "code",
        "colab": {
          "base_uri": "https://localhost:8080/",
          "height": 34
        },
        "outputId": "7bd09754-09e0-441c-f6a0-05bf2305b8c0"
      },
      "source": [
        "\n",
        "df = pd.read_csv('buddymove_holidayiq.csv')\n",
        "df.shape"
      ],
      "execution_count": 45,
      "outputs": [
        {
          "output_type": "execute_result",
          "data": {
            "text/plain": [
              "(249, 7)"
            ]
          },
          "metadata": {
            "tags": []
          },
          "execution_count": 45
        }
      ]
    },
    {
      "cell_type": "code",
      "metadata": {
        "id": "_uiY3PRB8pmP",
        "colab_type": "code",
        "colab": {
          "base_uri": "https://localhost:8080/",
          "height": 204
        },
        "outputId": "138fc09f-2520-4313-aec1-d40ce5952142"
      },
      "source": [
        "# make buddymove_holidayiq.sqlite3 db\n",
        "df.head()"
      ],
      "execution_count": 46,
      "outputs": [
        {
          "output_type": "execute_result",
          "data": {
            "text/html": [
              "<div>\n",
              "<style scoped>\n",
              "    .dataframe tbody tr th:only-of-type {\n",
              "        vertical-align: middle;\n",
              "    }\n",
              "\n",
              "    .dataframe tbody tr th {\n",
              "        vertical-align: top;\n",
              "    }\n",
              "\n",
              "    .dataframe thead th {\n",
              "        text-align: right;\n",
              "    }\n",
              "</style>\n",
              "<table border=\"1\" class=\"dataframe\">\n",
              "  <thead>\n",
              "    <tr style=\"text-align: right;\">\n",
              "      <th></th>\n",
              "      <th>User Id</th>\n",
              "      <th>Sports</th>\n",
              "      <th>Religious</th>\n",
              "      <th>Nature</th>\n",
              "      <th>Theatre</th>\n",
              "      <th>Shopping</th>\n",
              "      <th>Picnic</th>\n",
              "    </tr>\n",
              "  </thead>\n",
              "  <tbody>\n",
              "    <tr>\n",
              "      <th>0</th>\n",
              "      <td>User 1</td>\n",
              "      <td>2</td>\n",
              "      <td>77</td>\n",
              "      <td>79</td>\n",
              "      <td>69</td>\n",
              "      <td>68</td>\n",
              "      <td>95</td>\n",
              "    </tr>\n",
              "    <tr>\n",
              "      <th>1</th>\n",
              "      <td>User 2</td>\n",
              "      <td>2</td>\n",
              "      <td>62</td>\n",
              "      <td>76</td>\n",
              "      <td>76</td>\n",
              "      <td>69</td>\n",
              "      <td>68</td>\n",
              "    </tr>\n",
              "    <tr>\n",
              "      <th>2</th>\n",
              "      <td>User 3</td>\n",
              "      <td>2</td>\n",
              "      <td>50</td>\n",
              "      <td>97</td>\n",
              "      <td>87</td>\n",
              "      <td>50</td>\n",
              "      <td>75</td>\n",
              "    </tr>\n",
              "    <tr>\n",
              "      <th>3</th>\n",
              "      <td>User 4</td>\n",
              "      <td>2</td>\n",
              "      <td>68</td>\n",
              "      <td>77</td>\n",
              "      <td>95</td>\n",
              "      <td>76</td>\n",
              "      <td>61</td>\n",
              "    </tr>\n",
              "    <tr>\n",
              "      <th>4</th>\n",
              "      <td>User 5</td>\n",
              "      <td>2</td>\n",
              "      <td>98</td>\n",
              "      <td>54</td>\n",
              "      <td>59</td>\n",
              "      <td>95</td>\n",
              "      <td>86</td>\n",
              "    </tr>\n",
              "  </tbody>\n",
              "</table>\n",
              "</div>"
            ],
            "text/plain": [
              "  User Id  Sports  Religious  Nature  Theatre  Shopping  Picnic\n",
              "0  User 1       2         77      79       69        68      95\n",
              "1  User 2       2         62      76       76        69      68\n",
              "2  User 3       2         50      97       87        50      75\n",
              "3  User 4       2         68      77       95        76      61\n",
              "4  User 5       2         98      54       59        95      86"
            ]
          },
          "metadata": {
            "tags": []
          },
          "execution_count": 46
        }
      ]
    },
    {
      "cell_type": "code",
      "metadata": {
        "id": "Hf80pPym9vO1",
        "colab_type": "code",
        "colab": {}
      },
      "source": [
        "# Create in memory SQLite db\n",
        "engine = create_engine('sqlite://', echo=False)"
      ],
      "execution_count": 0,
      "outputs": []
    },
    {
      "cell_type": "code",
      "metadata": {
        "id": "FaRx9cnp-FAq",
        "colab_type": "code",
        "colab": {
          "base_uri": "https://localhost:8080/",
          "height": 1000
        },
        "outputId": "13f2c7c1-70b8-48f3-c676-7f7a46d6c59b"
      },
      "source": [
        "df.to_sql('buddymove_holidayiq', con=engine)\n",
        "engine.execute(\"SELECT * FROM buddymove_holidayiq\").fetchall()"
      ],
      "execution_count": 51,
      "outputs": [
        {
          "output_type": "execute_result",
          "data": {
            "text/plain": [
              "[(0, 'User 1', 2, 77, 79, 69, 68, 95),\n",
              " (1, 'User 2', 2, 62, 76, 76, 69, 68),\n",
              " (2, 'User 3', 2, 50, 97, 87, 50, 75),\n",
              " (3, 'User 4', 2, 68, 77, 95, 76, 61),\n",
              " (4, 'User 5', 2, 98, 54, 59, 95, 86),\n",
              " (5, 'User 6', 3, 52, 109, 93, 52, 76),\n",
              " (6, 'User 7', 3, 64, 85, 82, 73, 69),\n",
              " (7, 'User 8', 3, 54, 107, 92, 54, 76),\n",
              " (8, 'User 9', 3, 64, 108, 64, 54, 93),\n",
              " (9, 'User 10', 3, 86, 76, 74, 74, 103),\n",
              " (10, 'User 11', 3, 107, 54, 64, 103, 94),\n",
              " (11, 'User 12', 3, 103, 60, 63, 102, 93),\n",
              " (12, 'User 13', 3, 64, 82, 82, 75, 69),\n",
              " (13, 'User 14', 3, 93, 54, 74, 103, 69),\n",
              " (14, 'User 15', 3, 63, 82, 81, 78, 69),\n",
              " (15, 'User 16', 3, 82, 79, 75, 75, 82),\n",
              " (16, 'User 17', 5, 59, 131, 103, 54, 86),\n",
              " (17, 'User 18', 5, 56, 124, 108, 56, 85),\n",
              " (18, 'User 19', 4, 85, 67, 111, 65, 72),\n",
              " (19, 'User 20', 5, 114, 83, 65, 114, 102),\n",
              " (20, 'User 21', 4, 93, 82, 79, 79, 90),\n",
              " (21, 'User 22', 4, 105, 52, 75, 113, 78),\n",
              " (22, 'User 23', 5, 69, 118, 74, 66, 101),\n",
              " (23, 'User 24', 4, 71, 123, 64, 59, 102),\n",
              " (24, 'User 25', 5, 88, 94, 81, 79, 91),\n",
              " (25, 'User 26', 5, 83, 99, 89, 74, 91),\n",
              " (26, 'User 27', 5, 69, 133, 74, 54, 101),\n",
              " (27, 'User 28', 5, 128, 53, 74, 117, 105),\n",
              " (28, 'User 29', 5, 74, 123, 69, 61, 101),\n",
              " (29, 'User 30', 5, 79, 93, 118, 90, 72),\n",
              " (30, 'User 31', 4, 51, 115, 110, 51, 84),\n",
              " (31, 'User 32', 5, 69, 93, 93, 81, 79),\n",
              " (32, 'User 33', 4, 100, 53, 86, 112, 78),\n",
              " (33, 'User 34', 4, 88, 69, 108, 71, 77),\n",
              " (34, 'User 35', 4, 93, 84, 75, 84, 112),\n",
              " (35, 'User 36', 4, 79, 86, 110, 93, 73),\n",
              " (36, 'User 37', 4, 87, 72, 112, 63, 71),\n",
              " (37, 'User 38', 5, 65, 128, 79, 56, 101),\n",
              " (38, 'User 39', 4, 91, 66, 110, 69, 71),\n",
              " (39, 'User 40', 4, 93, 79, 74, 92, 90),\n",
              " (40, 'User 41', 5, 59, 118, 108, 63, 85),\n",
              " (41, 'User 42', 5, 65, 103, 90, 80, 79),\n",
              " (42, 'User 43', 4, 87, 89, 76, 89, 111),\n",
              " (43, 'User 44', 4, 93, 85, 79, 85, 91),\n",
              " (44, 'User 45', 5, 93, 94, 79, 79, 113),\n",
              " (45, 'User 46', 5, 74, 130, 74, 53, 101),\n",
              " (46, 'User 47', 4, 118, 59, 69, 119, 97),\n",
              " (47, 'User 48', 4, 101, 61, 76, 113, 78),\n",
              " (48, 'User 49', 5, 88, 99, 79, 83, 114),\n",
              " (49, 'User 50', 4, 74, 87, 87, 79, 79),\n",
              " (50, 'User 51', 14, 148, 59, 104, 208, 119),\n",
              " (51, 'User 52', 5, 93, 89, 74, 89, 93),\n",
              " (52, 'User 53', 4, 79, 103, 68, 103, 85),\n",
              " (53, 'User 54', 4, 76, 92, 111, 90, 71),\n",
              " (54, 'User 55', 8, 94, 140, 89, 118, 92),\n",
              " (55, 'User 56', 8, 108, 109, 89, 89, 143),\n",
              " (56, 'User 57', 6, 98, 89, 133, 79, 79),\n",
              " (57, 'User 58', 8, 84, 118, 102, 94, 90),\n",
              " (58, 'User 59', 8, 138, 74, 79, 143, 118),\n",
              " (59, 'User 60', 6, 74, 109, 103, 89, 88),\n",
              " (60, 'User 61', 8, 118, 104, 94, 94, 118),\n",
              " (61, 'User 62', 8, 94, 128, 89, 128, 99),\n",
              " (62, 'User 63', 8, 64, 155, 118, 64, 97),\n",
              " (63, 'User 64', 6, 84, 108, 138, 103, 79),\n",
              " (64, 'User 65', 8, 108, 109, 94, 99, 138),\n",
              " (65, 'User 66', 6, 89, 108, 128, 116, 81),\n",
              " (66, 'User 67', 6, 103, 79, 148, 74, 79),\n",
              " (67, 'User 68', 6, 103, 109, 99, 89, 108),\n",
              " (68, 'User 69', 8, 108, 99, 94, 94, 138),\n",
              " (69, 'User 70', 8, 108, 109, 104, 79, 133),\n",
              " (70, 'User 71', 8, 138, 59, 84, 138, 128),\n",
              " (71, 'User 72', 8, 79, 143, 113, 69, 109),\n",
              " (72, 'User 73', 8, 84, 153, 79, 64, 113),\n",
              " (73, 'User 74', 8, 74, 148, 118, 64, 104),\n",
              " (74, 'User 75', 8, 74, 153, 118, 59, 99),\n",
              " (75, 'User 76', 6, 118, 64, 101, 133, 92),\n",
              " (76, 'User 77', 6, 69, 153, 113, 59, 99),\n",
              " (77, 'User 78', 6, 123, 68, 89, 128, 90),\n",
              " (78, 'User 79', 6, 99, 104, 128, 64, 78),\n",
              " (79, 'User 80', 6, 124, 59, 84, 143, 88),\n",
              " (80, 'User 81', 6, 84, 131, 128, 93, 81),\n",
              " (81, 'User 82', 6, 113, 64, 89, 141, 86),\n",
              " (82, 'User 83', 6, 118, 64, 99, 134, 88),\n",
              " (83, 'User 84', 8, 89, 143, 84, 64, 118),\n",
              " (84, 'User 85', 6, 98, 89, 133, 69, 79),\n",
              " (85, 'User 86', 6, 98, 104, 109, 91, 101),\n",
              " (86, 'User 87', 8, 84, 143, 74, 74, 133),\n",
              " (87, 'User 88', 8, 123, 64, 93, 148, 90),\n",
              " (88, 'User 89', 6, 84, 113, 141, 98, 81),\n",
              " (89, 'User 90', 6, 59, 148, 125, 59, 97),\n",
              " (90, 'User 91', 8, 143, 69, 79, 143, 123),\n",
              " (91, 'User 92', 8, 94, 133, 84, 125, 97),\n",
              " (92, 'User 93', 8, 84, 108, 113, 93, 90),\n",
              " (93, 'User 94', 8, 84, 138, 89, 69, 123),\n",
              " (94, 'User 95', 6, 84, 108, 133, 98, 81),\n",
              " (95, 'User 96', 6, 99, 84, 138, 69, 83),\n",
              " (96, 'User 97', 8, 113, 94, 84, 109, 128),\n",
              " (97, 'User 98', 6, 148, 64, 74, 138, 128),\n",
              " (98, 'User 99', 8, 84, 138, 113, 64, 114),\n",
              " (99, 'User 100', 6, 98, 79, 138, 79, 79),\n",
              " (100, 'User 101', 8, 133, 84, 84, 133, 118),\n",
              " (101, 'User 102', 6, 79, 113, 106, 87, 88),\n",
              " (102, 'User 103', 8, 113, 104, 84, 94, 148),\n",
              " (103, 'User 104', 6, 69, 138, 113, 79, 99),\n",
              " (104, 'User 105', 6, 83, 103, 98, 99, 90),\n",
              " (105, 'User 106', 8, 69, 143, 123, 71, 97),\n",
              " (106, 'User 107', 8, 118, 94, 99, 99, 143),\n",
              " (107, 'User 108', 6, 74, 133, 99, 74, 113),\n",
              " (108, 'User 109', 12, 115, 94, 163, 109, 92),\n",
              " (109, 'User 110', 12, 123, 124, 109, 114, 168),\n",
              " (110, 'User 111', 12, 94, 133, 157, 133, 95),\n",
              " (111, 'User 112', 12, 104, 123, 163, 128, 89),\n",
              " (112, 'User 113', 14, 99, 198, 89, 74, 153),\n",
              " (113, 'User 114', 14, 113, 148, 99, 148, 110),\n",
              " (114, 'User 115', 14, 94, 163, 99, 94, 153),\n",
              " (115, 'User 116', 12, 133, 104, 119, 129, 133),\n",
              " (116, 'User 117', 14, 163, 69, 94, 188, 143),\n",
              " (117, 'User 118', 12, 74, 158, 158, 74, 119),\n",
              " (118, 'User 119', 12, 123, 124, 109, 129, 143),\n",
              " (119, 'User 120', 12, 94, 137, 148, 113, 100),\n",
              " (120, 'User 121', 12, 123, 129, 139, 99, 143),\n",
              " (121, 'User 122', 12, 89, 163, 99, 79, 143),\n",
              " (122, 'User 123', 14, 81, 173, 143, 79, 122),\n",
              " (123, 'User 124', 14, 135, 84, 158, 139, 92),\n",
              " (124, 'User 125', 12, 108, 113, 133, 114, 100),\n",
              " (125, 'User 126', 14, 138, 119, 119, 124, 158),\n",
              " (126, 'User 127', 12, 128, 122, 134, 109, 120),\n",
              " (127, 'User 128', 14, 79, 203, 153, 69, 119),\n",
              " (128, 'User 129', 12, 84, 150, 128, 104, 102),\n",
              " (129, 'User 130', 12, 148, 69, 104, 173, 138),\n",
              " (130, 'User 131', 14, 133, 124, 119, 124, 168),\n",
              " (131, 'User 132', 12, 89, 128, 148, 111, 102),\n",
              " (132, 'User 133', 12, 79, 183, 133, 70, 113),\n",
              " (133, 'User 134', 12, 96, 113, 113, 99, 97),\n",
              " (134, 'User 135', 14, 84, 161, 153, 84, 116),\n",
              " (135, 'User 136', 12, 109, 135, 158, 123, 92),\n",
              " (136, 'User 137', 12, 133, 74, 114, 175, 102),\n",
              " (137, 'User 138', 14, 133, 139, 124, 109, 128),\n",
              " (138, 'User 139', 12, 128, 124, 114, 111, 126),\n",
              " (139, 'User 140', 10, 97, 123, 108, 119, 111),\n",
              " (140, 'User 141', 12, 123, 104, 104, 134, 153),\n",
              " (141, 'User 142', 10, 113, 89, 168, 89, 89),\n",
              " (142, 'User 143', 12, 109, 148, 94, 133, 119),\n",
              " (143, 'User 144', 10, 165, 64, 94, 173, 97),\n",
              " (144, 'User 145', 12, 93, 123, 123, 124, 100),\n",
              " (145, 'User 146', 14, 143, 98, 119, 163, 105),\n",
              " (146, 'User 147', 12, 89, 158, 89, 89, 158),\n",
              " (147, 'User 148', 10, 113, 111, 153, 84, 97),\n",
              " (148, 'User 149', 12, 138, 86, 114, 158, 102),\n",
              " (149, 'User 150', 12, 79, 158, 148, 69, 119),\n",
              " (150, 'User 151', 14, 84, 178, 138, 87, 116),\n",
              " (151, 'User 152', 14, 84, 168, 148, 80, 113),\n",
              " (152, 'User 153', 14, 84, 173, 143, 69, 110),\n",
              " (153, 'User 154', 12, 104, 130, 178, 118, 92),\n",
              " (154, 'User 155', 10, 99, 123, 153, 128, 103),\n",
              " (155, 'User 156', 12, 93, 128, 118, 119, 100),\n",
              " (156, 'User 157', 12, 128, 119, 104, 119, 173),\n",
              " (157, 'User 158', 14, 94, 178, 109, 69, 143),\n",
              " (158, 'User 159', 12, 148, 69, 104, 168, 114),\n",
              " (159, 'User 160', 12, 113, 114, 109, 119, 143),\n",
              " (160, 'User 161', 12, 153, 74, 94, 163, 158),\n",
              " (161, 'User 162', 22, 139, 163, 114, 203, 139),\n",
              " (162, 'User 163', 14, 163, 99, 94, 158, 143),\n",
              " (163, 'User 164', 12, 89, 178, 89, 79, 153),\n",
              " (164, 'User 165', 12, 79, 183, 104, 69, 148),\n",
              " (165, 'User 166', 12, 168, 69, 84, 198, 133),\n",
              " (166, 'User 167', 22, 128, 158, 183, 158, 130),\n",
              " (167, 'User 168', 22, 129, 188, 109, 104, 198),\n",
              " (168, 'User 169', 16, 178, 74, 114, 198, 129),\n",
              " (169, 'User 170', 20, 143, 139, 139, 139, 148),\n",
              " (170, 'User 171', 20, 114, 198, 124, 114, 153),\n",
              " (171, 'User 172', 18, 105, 158, 143, 129, 133),\n",
              " (172, 'User 173', 20, 120, 193, 104, 148, 138),\n",
              " (173, 'User 174', 20, 98, 193, 163, 99, 140),\n",
              " (174, 'User 175', 22, 148, 174, 129, 129, 153),\n",
              " (175, 'User 176', 20, 183, 104, 164, 193, 153),\n",
              " (176, 'User 177', 18, 99, 203, 129, 94, 158),\n",
              " (177, 'User 178', 22, 139, 178, 139, 163, 144),\n",
              " (178, 'User 179', 22, 90, 188, 163, 109, 138),\n",
              " (179, 'User 180', 18, 163, 84, 129, 193, 139),\n",
              " (180, 'User 181', 18, 88, 178, 178, 89, 140),\n",
              " (181, 'User 182', 18, 114, 144, 213, 133, 128),\n",
              " (182, 'User 183', 22, 143, 124, 208, 134, 124),\n",
              " (183, 'User 184', 20, 188, 94, 104, 208, 158),\n",
              " (184, 'User 185', 18, 99, 228, 104, 84, 163),\n",
              " (185, 'User 186', 18, 178, 94, 114, 188, 173),\n",
              " (186, 'User 187', 22, 119, 198, 149, 114, 168),\n",
              " (187, 'User 188', 20, 114, 203, 109, 84, 158),\n",
              " (188, 'User 189', 18, 99, 193, 158, 99, 144),\n",
              " (189, 'User 190', 22, 153, 139, 154, 154, 183),\n",
              " (190, 'User 191', 20, 162, 94, 144, 198, 135),\n",
              " (191, 'User 192', 18, 132, 149, 139, 119, 144),\n",
              " (192, 'User 193', 18, 104, 193, 114, 99, 173),\n",
              " (193, 'User 194', 18, 99, 183, 128, 114, 129),\n",
              " (194, 'User 195', 20, 178, 89, 154, 198, 183),\n",
              " (195, 'User 196', 20, 114, 243, 104, 79, 173),\n",
              " (196, 'User 197', 22, 133, 183, 114, 183, 140),\n",
              " (197, 'User 198', 22, 148, 149, 154, 149, 148),\n",
              " (198, 'User 199', 22, 114, 213, 129, 94, 178),\n",
              " (199, 'User 200', 22, 188, 124, 114, 183, 188),\n",
              " (200, 'User 201', 25, 153, 159, 129, 139, 218),\n",
              " (201, 'User 202', 18, 114, 153, 178, 138, 124),\n",
              " (202, 'User 203', 22, 184, 84, 129, 233, 133),\n",
              " (203, 'User 204', 18, 84, 193, 188, 80, 138),\n",
              " (204, 'User 205', 18, 178, 129, 104, 183, 163),\n",
              " (205, 'User 206', 18, 114, 163, 163, 148, 124),\n",
              " (206, 'User 207', 16, 132, 94, 178, 109, 120),\n",
              " (207, 'User 208', 20, 93, 183, 178, 89, 140),\n",
              " (208, 'User 209', 16, 137, 104, 173, 109, 130),\n",
              " (209, 'User 210', 18, 153, 74, 114, 188, 129),\n",
              " (210, 'User 211', 18, 128, 114, 168, 124, 124),\n",
              " (211, 'User 212', 22, 114, 228, 119, 99, 168),\n",
              " (212, 'User 213', 22, 178, 89, 114, 203, 139),\n",
              " (213, 'User 214', 18, 173, 84, 99, 193, 158),\n",
              " (214, 'User 215', 20, 168, 89, 124, 183, 129),\n",
              " (215, 'User 216', 18, 83, 198, 163, 84, 140),\n",
              " (216, 'User 217', 22, 144, 173, 134, 173, 149),\n",
              " (217, 'User 218', 18, 198, 64, 89, 203, 153),\n",
              " (218, 'User 219', 20, 114, 208, 114, 119, 168),\n",
              " (219, 'User 220', 18, 114, 183, 114, 109, 178),\n",
              " (220, 'User 221', 18, 114, 173, 183, 128, 124),\n",
              " (221, 'User 222', 18, 128, 134, 188, 89, 124),\n",
              " (222, 'User 223', 18, 143, 154, 129, 129, 178),\n",
              " (223, 'User 224', 18, 128, 163, 173, 133, 130),\n",
              " (224, 'User 225', 18, 148, 99, 139, 168, 129),\n",
              " (225, 'User 226', 18, 83, 218, 163, 74, 140),\n",
              " (226, 'User 227', 22, 120, 168, 158, 144, 133),\n",
              " (227, 'User 228', 22, 203, 99, 104, 223, 173),\n",
              " (228, 'User 229', 18, 143, 139, 119, 139, 203),\n",
              " (229, 'User 230', 22, 153, 144, 139, 144, 193),\n",
              " (230, 'User 231', 18, 147, 144, 129, 149, 144),\n",
              " (231, 'User 232', 18, 188, 74, 109, 213, 168),\n",
              " (232, 'User 233', 25, 158, 154, 154, 154, 153),\n",
              " (233, 'User 234', 25, 104, 208, 168, 134, 144),\n",
              " (234, 'User 235', 25, 139, 153, 193, 158, 134),\n",
              " (235, 'User 236', 25, 84, 247, 168, 109, 140),\n",
              " (236, 'User 237', 25, 173, 89, 124, 233, 158),\n",
              " (237, 'User 238', 8, 93, 119, 99, 89, 138),\n",
              " (238, 'User 239', 22, 124, 168, 208, 148, 124),\n",
              " (239, 'User 240', 18, 114, 158, 178, 158, 124),\n",
              " (240, 'User 241', 20, 188, 94, 94, 223, 153),\n",
              " (241, 'User 242', 25, 114, 238, 124, 104, 178),\n",
              " (242, 'User 243', 18, 94, 188, 148, 99, 139),\n",
              " (243, 'User 244', 25, 129, 318, 94, 89, 188),\n",
              " (244, 'User 245', 18, 139, 148, 129, 129, 168),\n",
              " (245, 'User 246', 22, 114, 228, 104, 84, 168),\n",
              " (246, 'User 247', 20, 124, 178, 104, 158, 174),\n",
              " (247, 'User 248', 20, 133, 149, 139, 144, 213),\n",
              " (248, 'User 249', 20, 143, 149, 139, 159, 143)]"
            ]
          },
          "metadata": {
            "tags": []
          },
          "execution_count": 51
        }
      ]
    },
    {
      "cell_type": "code",
      "metadata": {
        "id": "T1ruo9uA4Dau",
        "colab_type": "code",
        "outputId": "027ec87a-a67d-439c-a844-38f0ba27f047",
        "colab": {
          "base_uri": "https://localhost:8080/",
          "height": 122
        }
      },
      "source": [
        "!pip install psycopg2-binary"
      ],
      "execution_count": 0,
      "outputs": [
        {
          "output_type": "stream",
          "text": [
            "Collecting psycopg2-binary\n",
            "\u001b[?25l  Downloading https://files.pythonhosted.org/packages/b1/35/75c9c2d9cfc073ab6c42b2d8e91ff58c9b99f4ed7ed56b36647642e6080e/psycopg2_binary-2.8.3-cp36-cp36m-manylinux1_x86_64.whl (2.9MB)\n",
            "\u001b[K     |████████████████████████████████| 2.9MB 2.8MB/s \n",
            "\u001b[?25hInstalling collected packages: psycopg2-binary\n",
            "Successfully installed psycopg2-binary-2.8.3\n"
          ],
          "name": "stdout"
        }
      ]
    }
  ]
}
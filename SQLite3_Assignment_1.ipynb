{
  "nbformat": 4,
  "nbformat_minor": 0,
  "metadata": {
    "colab": {
      "name": "SQLite3 Assignment 1.ipynb",
      "version": "0.3.2",
      "provenance": [],
      "collapsed_sections": [],
      "include_colab_link": true
    },
    "kernelspec": {
      "name": "python3",
      "display_name": "Python 3"
    }
  },
  "cells": [
    {
      "cell_type": "markdown",
      "metadata": {
        "id": "view-in-github",
        "colab_type": "text"
      },
      "source": [
        "<a href=\"https://colab.research.google.com/github/AkiBae4891/DS-Unit-3-Sprint-2-SQL-and-Databases/blob/master/SQLite3_Assignment_1.ipynb\" target=\"_parent\"><img src=\"https://colab.research.google.com/assets/colab-badge.svg\" alt=\"Open In Colab\"/></a>"
      ]
    },
    {
      "cell_type": "markdown",
      "metadata": {
        "id": "JH5gKEowugfx",
        "colab_type": "text"
      },
      "source": [
        "##Import SQLite 3 and load the DB"
      ]
    },
    {
      "cell_type": "code",
      "metadata": {
        "id": "6gVk_gxkuBKh",
        "colab_type": "code",
        "colab": {}
      },
      "source": [
        "import sqlite3\n",
        "conn = sqlite3.connect('rpg_db.sqlite3')\n",
        "curs = conn.cursor()"
      ],
      "execution_count": 0,
      "outputs": []
    },
    {
      "cell_type": "code",
      "metadata": {
        "id": "P8Iio4usurnF",
        "colab_type": "code",
        "colab": {}
      },
      "source": [
        "query = \"\"\"SELECT * \n",
        "FROM charactercreator_character \n",
        "INNER JOIN charactercreator_mage \n",
        "ON character_id = character_ptr_id;\"\"\"\n",
        "\n",
        "curs.execute(query)\n",
        "results = curs.fetchone()\n",
        "remaining_results = curs.fetchall()"
      ],
      "execution_count": 0,
      "outputs": []
    },
    {
      "cell_type": "code",
      "metadata": {
        "id": "LtnkilwIsADc",
        "colab_type": "code",
        "colab": {
          "base_uri": "https://localhost:8080/",
          "height": 34
        },
        "outputId": "f6fa7e2b-2247-4a42-d851-34f3ed420e28"
      },
      "source": [
        "results\n"
      ],
      "execution_count": 21,
      "outputs": [
        {
          "output_type": "execute_result",
          "data": {
            "text/plain": [
              "(69, 'Totam natus eius fugiat volu', 0, 0, 10, 1, 1, 1, 1, 69, 1, 100)"
            ]
          },
          "metadata": {
            "tags": []
          },
          "execution_count": 21
        }
      ]
    },
    {
      "cell_type": "code",
      "metadata": {
        "id": "NdeTXGZesIEF",
        "colab_type": "code",
        "colab": {
          "base_uri": "https://localhost:8080/",
          "height": 1000
        },
        "outputId": "7b823b5c-f5b9-4330-d770-e87fb123c10f"
      },
      "source": [
        "remaining_results"
      ],
      "execution_count": 22,
      "outputs": [
        {
          "output_type": "execute_result",
          "data": {
            "text/plain": [
              "[(70, 'Perferendis commodi null', 0, 0, 10, 1, 1, 1, 1, 70, 1, 100),\n",
              " (71, 'Laudantiu', 0, 0, 10, 1, 1, 1, 1, 71, 1, 100),\n",
              " (72, 'Voluptat', 0, 0, 10, 1, 1, 1, 1, 72, 1, 100),\n",
              " (73, 'Incidunt nesciun', 0, 0, 10, 1, 1, 1, 1, 73, 1, 100),\n",
              " (74, 'Illum amet vero', 0, 0, 10, 1, 1, 1, 1, 74, 1, 100),\n",
              " (75, 'Suscipit exercitationem re', 0, 0, 10, 1, 1, 1, 1, 75, 1, 100),\n",
              " (76, 'Quas enim error maxime nisi m', 0, 0, 10, 1, 1, 1, 1, 76, 1, 100),\n",
              " (77, 'Labore qu', 0, 0, 10, 1, 1, 1, 1, 77, 1, 100),\n",
              " (78, 'Repudiandae deleniti unde', 0, 0, 10, 1, 1, 1, 1, 78, 1, 100),\n",
              " (79, 'Ut do', 0, 0, 10, 1, 1, 1, 1, 79, 1, 100),\n",
              " (80, 'Quaerat esse labore q', 0, 0, 10, 1, 1, 1, 1, 80, 1, 100),\n",
              " (81, 'Quidem aliq', 0, 0, 10, 1, 1, 1, 1, 81, 1, 100),\n",
              " (82, 'Aperiam vitae eos dolor sed', 0, 0, 10, 1, 1, 1, 1, 82, 1, 100),\n",
              " (83, 'Minus nobis porro', 0, 0, 10, 1, 1, 1, 1, 83, 1, 100),\n",
              " (84, 'In similique', 0, 0, 10, 1, 1, 1, 1, 84, 1, 100),\n",
              " (85, 'Culpa repellat unde', 0, 0, 10, 1, 1, 1, 1, 85, 1, 100),\n",
              " (86, 'Architecto i', 0, 0, 10, 1, 1, 1, 1, 86, 1, 100),\n",
              " (87, 'A sed pariatur qua', 0, 0, 10, 1, 1, 1, 1, 87, 1, 100),\n",
              " (88, 'Tempore assumenda aperiam', 0, 0, 10, 1, 1, 1, 1, 88, 1, 100),\n",
              " (89, 'Sed ullam tempora iusto co', 0, 0, 10, 1, 1, 1, 1, 89, 1, 100),\n",
              " (90, 'Ipsa', 0, 0, 10, 1, 1, 1, 1, 90, 1, 100),\n",
              " (91, 'Fugiat incidun', 0, 0, 10, 1, 1, 1, 1, 91, 1, 100),\n",
              " (92, 'Molestiae of', 0, 0, 10, 1, 1, 1, 1, 92, 1, 100),\n",
              " (93, 'Quae quisquam cons', 0, 0, 10, 1, 1, 1, 1, 93, 1, 100),\n",
              " (94, 'Repellendus ea non facil', 0, 0, 10, 1, 1, 1, 1, 94, 1, 100),\n",
              " (95, 'Quod non quibu', 0, 0, 10, 1, 1, 1, 1, 95, 1, 100),\n",
              " (96, 'Numquam velit distinctio', 0, 0, 10, 1, 1, 1, 1, 96, 1, 100),\n",
              " (97, 'Necessitatibus nihil ex debi', 0, 0, 10, 1, 1, 1, 1, 97, 1, 100),\n",
              " (98, 'Velit tempore nemo, na', 0, 0, 10, 1, 1, 1, 1, 98, 1, 100),\n",
              " (99, 'Nesciunt v', 0, 0, 10, 1, 1, 1, 1, 99, 1, 100),\n",
              " (100, 'Dicta enim debitis accusantiu', 0, 0, 10, 1, 1, 1, 1, 100, 1, 100),\n",
              " (101, 'Vitae a', 0, 0, 10, 1, 1, 1, 1, 101, 1, 100),\n",
              " (102, 'Praesentium voluptas u', 0, 0, 10, 1, 1, 1, 1, 102, 1, 100),\n",
              " (103, 'Unde ullam mollitia? Nu', 0, 0, 10, 1, 1, 1, 1, 103, 1, 100),\n",
              " (104, 'Neque molestias qu', 0, 0, 10, 1, 1, 1, 1, 104, 1, 100),\n",
              " (105, 'Officiis es', 0, 0, 10, 1, 1, 1, 1, 105, 1, 100),\n",
              " (106, 'Beatae mi', 0, 0, 10, 1, 1, 1, 1, 106, 1, 100),\n",
              " (107, 'Mollitia nam corporis temp', 0, 0, 10, 1, 1, 1, 1, 107, 1, 100),\n",
              " (108, 'Repudiandae repellat i', 0, 0, 10, 1, 1, 1, 1, 108, 1, 100),\n",
              " (109, 'Laboriosam', 0, 0, 10, 1, 1, 1, 1, 109, 1, 100),\n",
              " (110, 'Nam minus amet', 0, 0, 10, 1, 1, 1, 1, 110, 1, 100),\n",
              " (111, 'Harum quae volup', 0, 0, 10, 1, 1, 1, 1, 111, 1, 100),\n",
              " (112, 'Impedit facere ulla', 0, 0, 10, 1, 1, 1, 1, 112, 1, 100),\n",
              " (113, 'Enim', 0, 0, 10, 1, 1, 1, 1, 113, 1, 100),\n",
              " (114, 'Dolore magni', 0, 0, 10, 1, 1, 1, 1, 114, 1, 100),\n",
              " (115, 'Eaque at corpori', 0, 0, 10, 1, 1, 1, 1, 115, 1, 100),\n",
              " (116, 'Fug', 0, 0, 10, 1, 1, 1, 1, 116, 1, 100),\n",
              " (117, 'Dolorum laudanti', 0, 0, 10, 1, 1, 1, 1, 117, 1, 100),\n",
              " (118, 'Perferendis nat', 0, 0, 10, 1, 1, 1, 1, 118, 1, 100),\n",
              " (119, 'Cupidi', 0, 0, 10, 1, 1, 1, 1, 119, 1, 100),\n",
              " (120, 'Commodi eius dicta digniss', 0, 0, 10, 1, 1, 1, 1, 120, 1, 100),\n",
              " (121, 'Debitis eu', 0, 0, 10, 1, 1, 1, 1, 121, 1, 100),\n",
              " (122, 'Nihil repella', 0, 0, 10, 1, 1, 1, 1, 122, 1, 100),\n",
              " (123, 'Rem quasi minima hic sed anim', 0, 0, 10, 1, 1, 1, 1, 123, 1, 100),\n",
              " (124, 'Sed ali', 0, 0, 10, 1, 1, 1, 1, 124, 1, 100),\n",
              " (125, 'Earum vol', 0, 0, 10, 1, 1, 1, 1, 125, 1, 100),\n",
              " (126, 'Inventore tempore com', 0, 0, 10, 1, 1, 1, 1, 126, 1, 100),\n",
              " (127, 'Repell', 0, 0, 10, 1, 1, 1, 1, 127, 1, 100),\n",
              " (128, 'Consequatur quis recusandae qu', 0, 0, 10, 1, 1, 1, 1, 128, 1, 100),\n",
              " (129, 'Dolores ea velit mi', 0, 0, 10, 1, 1, 1, 1, 129, 1, 100),\n",
              " (130, 'Atque blanditiis a aperiam', 0, 0, 10, 1, 1, 1, 1, 130, 1, 100),\n",
              " (131, 'Reprehenderit sequi iu', 0, 0, 10, 1, 1, 1, 1, 131, 1, 100),\n",
              " (132, 'Natus architecto eos, hic blan', 0, 0, 10, 1, 1, 1, 1, 132, 1, 100),\n",
              " (133, 'Ipsa illo quas', 0, 0, 10, 1, 1, 1, 1, 133, 1, 100),\n",
              " (134, 'Voluptas ali', 0, 0, 10, 1, 1, 1, 1, 134, 1, 100),\n",
              " (135, 'Voluptates obcaecati quod e', 0, 0, 10, 1, 1, 1, 1, 135, 1, 100),\n",
              " (136, 'Dolor adipisci a voluptate', 0, 0, 10, 1, 1, 1, 1, 136, 1, 100),\n",
              " (137, 'Repellendus natus quae, n', 0, 0, 10, 1, 1, 1, 1, 137, 1, 100),\n",
              " (138, 'Laudantium earum nam in dol', 0, 0, 10, 1, 1, 1, 1, 138, 1, 100),\n",
              " (139, 'Molestias face', 0, 0, 10, 1, 1, 1, 1, 139, 1, 100),\n",
              " (140, 'Maiores suscipit exc', 0, 0, 10, 1, 1, 1, 1, 140, 1, 100),\n",
              " (141, 'Illum dolore perferen', 0, 0, 10, 1, 1, 1, 1, 141, 1, 100),\n",
              " (142, 'Explicabo recusandae ma', 0, 0, 10, 1, 1, 1, 1, 142, 1, 100),\n",
              " (143, 'Odio obcaecati hic nostrum n', 0, 0, 10, 1, 1, 1, 1, 143, 1, 100),\n",
              " (144, 'Voluptate ali', 0, 0, 10, 1, 1, 1, 1, 144, 1, 100),\n",
              " (145, 'Repudiandae vitae sapiente mol', 0, 0, 10, 1, 1, 1, 1, 145, 1, 100),\n",
              " (146, 'Ipsam cumque', 0, 0, 10, 1, 1, 1, 1, 146, 1, 100),\n",
              " (147, 'Fugiat quos alias eos dese', 0, 0, 10, 1, 1, 1, 1, 147, 1, 100),\n",
              " (148, 'Eaque impe', 0, 0, 10, 1, 1, 1, 1, 148, 1, 100),\n",
              " (149, 'Elige', 0, 0, 10, 1, 1, 1, 1, 149, 1, 100),\n",
              " (150, 'Adip', 0, 0, 10, 1, 1, 1, 1, 150, 1, 100),\n",
              " (151, 'Fuga nemo vel mo', 0, 0, 10, 1, 1, 1, 1, 151, 1, 100),\n",
              " (152, 'Libero cumque impedit eveniet', 0, 0, 10, 1, 1, 1, 1, 152, 1, 100),\n",
              " (153, 'Odio soluta', 0, 0, 10, 1, 1, 1, 1, 153, 1, 100),\n",
              " (154, 'Vero nostrum duc', 0, 0, 10, 1, 1, 1, 1, 154, 1, 100),\n",
              " (155, 'Repellend', 0, 0, 10, 1, 1, 1, 1, 155, 1, 100),\n",
              " (156, 'Quod', 0, 0, 10, 1, 1, 1, 1, 156, 1, 100),\n",
              " (157, 'Suscipit reiciend', 0, 0, 10, 1, 1, 1, 1, 157, 1, 100),\n",
              " (158, 'Voluptat', 0, 0, 10, 1, 1, 1, 1, 158, 1, 100),\n",
              " (159, 'Porro dolor fuga quam', 0, 0, 10, 1, 1, 1, 1, 159, 1, 100),\n",
              " (160, 'Amet quo fugit aliquam sequi', 0, 0, 10, 1, 1, 1, 1, 160, 1, 100),\n",
              " (161, 'Magni adipisci veritatis sit q', 0, 0, 10, 1, 1, 1, 1, 161, 1, 100),\n",
              " (162, 'Debitis enim cumque cum qu', 0, 0, 10, 1, 1, 1, 1, 162, 1, 100),\n",
              " (163, 'Dolorem eligend', 0, 0, 10, 1, 1, 1, 1, 163, 1, 100),\n",
              " (164, 'Autem lib', 0, 0, 10, 1, 1, 1, 1, 164, 1, 100),\n",
              " (165, 'Saepe assumenda perferendis f', 0, 0, 10, 1, 1, 1, 1, 165, 1, 100),\n",
              " (292, 'Vero a', 0, 0, 10, 1, 1, 1, 1, 292, 1, 100),\n",
              " (293, 'Optio harum labori', 0, 0, 10, 1, 1, 1, 1, 293, 1, 100),\n",
              " (294, 'Duci', 0, 0, 10, 1, 1, 1, 1, 294, 1, 100),\n",
              " (295, 'Ipsa elige', 0, 0, 10, 1, 1, 1, 1, 295, 1, 100),\n",
              " (296, 'Sunt blanditiis i', 0, 0, 10, 1, 1, 1, 1, 296, 1, 100),\n",
              " (297, 'Doloremque', 0, 0, 10, 1, 1, 1, 1, 297, 1, 100),\n",
              " (298, 'Autem ratione vitae quos, do', 0, 0, 10, 1, 1, 1, 1, 298, 1, 100),\n",
              " (299, 'Voluptatibus aliquid', 0, 0, 10, 1, 1, 1, 1, 299, 1, 100),\n",
              " (300, 'Quaerat sequi sit eius corpori', 0, 0, 10, 1, 1, 1, 1, 300, 1, 100),\n",
              " (301, 'Libe', 0, 0, 10, 1, 1, 1, 1, 301, 1, 100),\n",
              " (302, 'Aliquam n', 0, 0, 10, 1, 1, 1, 1, 302, 1, 100)]"
            ]
          },
          "metadata": {
            "tags": []
          },
          "execution_count": 22
        }
      ]
    },
    {
      "cell_type": "markdown",
      "metadata": {
        "id": "kSQhtxJ61ykG",
        "colab_type": "text"
      },
      "source": [
        "## How many total characters?"
      ]
    },
    {
      "cell_type": "markdown",
      "metadata": {
        "id": "-Nl0UnjH212q",
        "colab_type": "text"
      },
      "source": [
        "### There are 302 characters "
      ]
    },
    {
      "cell_type": "code",
      "metadata": {
        "id": "EPLAiujc11_D",
        "colab_type": "code",
        "outputId": "40f7e292-9b48-48ae-9ccb-edb472cf9baa",
        "colab": {
          "base_uri": "https://localhost:8080/",
          "height": 34
        }
      },
      "source": [
        "query = \"\"\"SELECT COUNT(character_id) FROM charactercreator_character;\"\"\"\n",
        "curs.execute(query)\n",
        "curs.fetchall()"
      ],
      "execution_count": 15,
      "outputs": [
        {
          "output_type": "execute_result",
          "data": {
            "text/plain": [
              "[(302,)]"
            ]
          },
          "metadata": {
            "tags": []
          },
          "execution_count": 15
        }
      ]
    },
    {
      "cell_type": "markdown",
      "metadata": {
        "id": "x9yOB9-d7bT4",
        "colab_type": "text"
      },
      "source": [
        "### How many of each specific Subclass"
      ]
    },
    {
      "cell_type": "code",
      "metadata": {
        "id": "qJeZlgxgWb-C",
        "colab_type": "code",
        "colab": {}
      },
      "source": [
        "# Can use  SQL COUNT() with GROUP by?\n",
        "query = \"\"\"SELECT\"\"\""
      ],
      "execution_count": 0,
      "outputs": []
    },
    {
      "cell_type": "code",
      "metadata": {
        "id": "4Y5yN4Lz7dun",
        "colab_type": "code",
        "outputId": "a7d77a42-1af7-48c5-c47d-7002601922ab",
        "colab": {
          "base_uri": "https://localhost:8080/",
          "height": 34
        }
      },
      "source": [
        "#Cleric\n",
        "query = \"\"\"SELECT COUNT(character_ptr_id) \n",
        "FROM charactercreator_cleric;\"\"\"\n",
        "curs.execute(query)\n",
        "curs.fetchall()"
      ],
      "execution_count": 9,
      "outputs": [
        {
          "output_type": "execute_result",
          "data": {
            "text/plain": [
              "[(75,)]"
            ]
          },
          "metadata": {
            "tags": []
          },
          "execution_count": 9
        }
      ]
    },
    {
      "cell_type": "code",
      "metadata": {
        "id": "OIBqzr4QDdXT",
        "colab_type": "code",
        "colab": {
          "base_uri": "https://localhost:8080/",
          "height": 34
        },
        "outputId": "55054e61-04d3-42b6-8b11-34a4d45df32b"
      },
      "source": [
        "#Fighter\n",
        "query = \"\"\"SELECT COUNT(character_ptr_id) \n",
        "FROM charactercreator_fighter;\"\"\"\n",
        "curs.execute(query)\n",
        "curs.fetchall()"
      ],
      "execution_count": 23,
      "outputs": [
        {
          "output_type": "execute_result",
          "data": {
            "text/plain": [
              "[(68,)]"
            ]
          },
          "metadata": {
            "tags": []
          },
          "execution_count": 23
        }
      ]
    },
    {
      "cell_type": "code",
      "metadata": {
        "id": "S6YVGjILwiBf",
        "colab_type": "code",
        "colab": {
          "base_uri": "https://localhost:8080/",
          "height": 34
        },
        "outputId": "bba941ec-243f-4e1d-bb3e-0be849d74dfb"
      },
      "source": [
        "#Mage\n",
        "query = \"\"\"SELECT COUNT(character_ptr_id) \n",
        "FROM charactercreator_mage;\"\"\"\n",
        "curs.execute(query)\n",
        "curs.fetchall()"
      ],
      "execution_count": 24,
      "outputs": [
        {
          "output_type": "execute_result",
          "data": {
            "text/plain": [
              "[(108,)]"
            ]
          },
          "metadata": {
            "tags": []
          },
          "execution_count": 24
        }
      ]
    },
    {
      "cell_type": "code",
      "metadata": {
        "id": "MRRbm69DwpX-",
        "colab_type": "code",
        "colab": {
          "base_uri": "https://localhost:8080/",
          "height": 34
        },
        "outputId": "05e023b4-61ae-417e-f801-9c0a49811ccf"
      },
      "source": [
        "#Necromancer\n",
        "query = \"\"\"SELECT COUNT(mage_ptr_id) \n",
        "FROM charactercreator_necromancer;\"\"\"\n",
        "curs.execute(query)\n",
        "curs.fetchall()"
      ],
      "execution_count": 16,
      "outputs": [
        {
          "output_type": "execute_result",
          "data": {
            "text/plain": [
              "[(11,)]"
            ]
          },
          "metadata": {
            "tags": []
          },
          "execution_count": 16
        }
      ]
    },
    {
      "cell_type": "code",
      "metadata": {
        "id": "0WODENveDWrz",
        "colab_type": "code",
        "colab": {
          "base_uri": "https://localhost:8080/",
          "height": 34
        },
        "outputId": "48bebf21-32a8-411c-9f71-84f6957a0ae4"
      },
      "source": [
        "#Thief\n",
        "query = \"\"\"SELECT COUNT(character_ptr_id) \n",
        "FROM charactercreator_thief;\"\"\"\n",
        "curs.execute(query)\n",
        "curs.fetchall()"
      ],
      "execution_count": 15,
      "outputs": [
        {
          "output_type": "execute_result",
          "data": {
            "text/plain": [
              "[(51,)]"
            ]
          },
          "metadata": {
            "tags": []
          },
          "execution_count": 15
        }
      ]
    },
    {
      "cell_type": "markdown",
      "metadata": {
        "id": "B7Hr1ZbCEjjJ",
        "colab_type": "text"
      },
      "source": [
        "### How many total Items?"
      ]
    },
    {
      "cell_type": "code",
      "metadata": {
        "id": "LsLw6hE4FIcn",
        "colab_type": "code",
        "colab": {
          "base_uri": "https://localhost:8080/",
          "height": 34
        },
        "outputId": "84e7e5ed-8d56-4714-cf36-a033927f61c4"
      },
      "source": [
        "query = \"\"\"SELECT COUNT(item_id)\n",
        "FROM armory_item\"\"\"\n",
        "curs.execute(query)\n",
        "curs.fetchall()"
      ],
      "execution_count": 10,
      "outputs": [
        {
          "output_type": "execute_result",
          "data": {
            "text/plain": [
              "[(174,)]"
            ]
          },
          "metadata": {
            "tags": []
          },
          "execution_count": 10
        }
      ]
    },
    {
      "cell_type": "markdown",
      "metadata": {
        "id": "P4-iQJ3CJP2F",
        "colab_type": "text"
      },
      "source": [
        "### How many of the Items are weapons? How many are not?"
      ]
    },
    {
      "cell_type": "markdown",
      "metadata": {
        "id": "WYXaY71riCx0",
        "colab_type": "text"
      },
      "source": [
        "### 37 of the items are weapons, and 137 are not. "
      ]
    },
    {
      "cell_type": "code",
      "metadata": {
        "id": "0LETChGyJTy_",
        "colab_type": "code",
        "colab": {
          "base_uri": "https://localhost:8080/",
          "height": 34
        },
        "outputId": "aabcb6c8-ad2c-420c-a590-0b60fca947f1"
      },
      "source": [
        "# add up all items, add up weapons, then subtract weapons. Easy solution \n",
        "query1 = \"\"\"SELECT COUNT(item_id)\n",
        "FROM armory_item\"\"\"\n",
        "curs.execute(query1)\n",
        "curs.fetchall()"
      ],
      "execution_count": 19,
      "outputs": [
        {
          "output_type": "execute_result",
          "data": {
            "text/plain": [
              "[(174,)]"
            ]
          },
          "metadata": {
            "tags": []
          },
          "execution_count": 19
        }
      ]
    },
    {
      "cell_type": "code",
      "metadata": {
        "id": "1t4UnflDzFDK",
        "colab_type": "code",
        "colab": {
          "base_uri": "https://localhost:8080/",
          "height": 34
        },
        "outputId": "af7c7ae1-4c75-4a30-e43a-829f6f17203e"
      },
      "source": [
        "query2 = \"\"\"SELECT COUNT(item_ptr_id)\n",
        "FROM armory_weapon\"\"\"\n",
        "curs.execute(query2)\n",
        "curs.fetchall()"
      ],
      "execution_count": 20,
      "outputs": [
        {
          "output_type": "execute_result",
          "data": {
            "text/plain": [
              "[(37,)]"
            ]
          },
          "metadata": {
            "tags": []
          },
          "execution_count": 20
        }
      ]
    },
    {
      "cell_type": "markdown",
      "metadata": {
        "id": "p3EMnXigJYUn",
        "colab_type": "text"
      },
      "source": [
        "### How many Items does each character have? (Return first 20 rows)"
      ]
    },
    {
      "cell_type": "code",
      "metadata": {
        "id": "IYLr344lJcZQ",
        "colab_type": "code",
        "colab": {
          "base_uri": "https://localhost:8080/",
          "height": 357
        },
        "outputId": "c545f2ab-d47b-4ee1-9cc6-d2c3159bfc46"
      },
      "source": [
        "query = \"\"\"SELECT character_id, COUNT(item_id)\n",
        "FROM charactercreator_character_inventory\n",
        "GROUP BY character_id LIMIT 20;\"\"\"\n",
        "curs.execute(query)\n",
        "curs.fetchall()"
      ],
      "execution_count": 24,
      "outputs": [
        {
          "output_type": "execute_result",
          "data": {
            "text/plain": [
              "[(1, 3),\n",
              " (2, 3),\n",
              " (3, 2),\n",
              " (4, 4),\n",
              " (5, 4),\n",
              " (6, 1),\n",
              " (7, 5),\n",
              " (8, 3),\n",
              " (9, 4),\n",
              " (10, 4),\n",
              " (11, 3),\n",
              " (12, 3),\n",
              " (13, 4),\n",
              " (14, 4),\n",
              " (15, 4),\n",
              " (16, 1),\n",
              " (17, 5),\n",
              " (18, 5),\n",
              " (19, 3),\n",
              " (20, 1)]"
            ]
          },
          "metadata": {
            "tags": []
          },
          "execution_count": 24
        }
      ]
    },
    {
      "cell_type": "code",
      "metadata": {
        "id": "McfbfTMXS67e",
        "colab_type": "code",
        "colab": {}
      },
      "source": [
        ""
      ],
      "execution_count": 0,
      "outputs": []
    },
    {
      "cell_type": "markdown",
      "metadata": {
        "id": "1JvX4Cpq5NOk",
        "colab_type": "text"
      },
      "source": [
        "### How many weapons does each character have? (Return first 20 rows)"
      ]
    },
    {
      "cell_type": "code",
      "metadata": {
        "id": "2jfiqQMu4Nfp",
        "colab_type": "code",
        "colab": {
          "base_uri": "https://localhost:8080/",
          "height": 1000
        },
        "outputId": "2fccbcc6-bdc6-47ab-83c8-2f14bfdbffb9"
      },
      "source": [
        "query = \"\"\"SELECT character_id, COUNT(item_id)\n",
        "FROM charactercreator_character_inventory\n",
        "WHERE item_id > 138\n",
        "GROUP BY character_id;\"\"\"\n",
        "curs.execute(query)\n",
        "curs.fetchall()"
      ],
      "execution_count": 25,
      "outputs": [
        {
          "output_type": "execute_result",
          "data": {
            "text/plain": [
              "[(5, 2),\n",
              " (7, 1),\n",
              " (11, 1),\n",
              " (20, 1),\n",
              " (22, 1),\n",
              " (23, 1),\n",
              " (26, 1),\n",
              " (27, 3),\n",
              " (29, 2),\n",
              " (32, 1),\n",
              " (34, 1),\n",
              " (35, 2),\n",
              " (36, 3),\n",
              " (37, 2),\n",
              " (38, 2),\n",
              " (39, 2),\n",
              " (40, 1),\n",
              " (41, 1),\n",
              " (47, 1),\n",
              " (51, 1),\n",
              " (53, 1),\n",
              " (55, 2),\n",
              " (56, 1),\n",
              " (57, 2),\n",
              " (58, 1),\n",
              " (59, 2),\n",
              " (60, 1),\n",
              " (63, 3),\n",
              " (64, 1),\n",
              " (65, 1),\n",
              " (66, 1),\n",
              " (68, 1),\n",
              " (69, 1),\n",
              " (70, 3),\n",
              " (71, 1),\n",
              " (74, 1),\n",
              " (78, 1),\n",
              " (80, 1),\n",
              " (81, 2),\n",
              " (84, 2),\n",
              " (85, 2),\n",
              " (86, 1),\n",
              " (88, 1),\n",
              " (90, 1),\n",
              " (92, 1),\n",
              " (94, 1),\n",
              " (96, 2),\n",
              " (99, 1),\n",
              " (100, 1),\n",
              " (101, 1),\n",
              " (103, 1),\n",
              " (105, 1),\n",
              " (106, 1),\n",
              " (108, 2),\n",
              " (112, 1),\n",
              " (113, 2),\n",
              " (114, 1),\n",
              " (115, 1),\n",
              " (117, 1),\n",
              " (118, 1),\n",
              " (122, 1),\n",
              " (126, 1),\n",
              " (127, 2),\n",
              " (128, 1),\n",
              " (129, 1),\n",
              " (131, 1),\n",
              " (134, 2),\n",
              " (136, 1),\n",
              " (139, 1),\n",
              " (141, 1),\n",
              " (142, 3),\n",
              " (143, 1),\n",
              " (145, 1),\n",
              " (147, 1),\n",
              " (148, 1),\n",
              " (149, 1),\n",
              " (151, 1),\n",
              " (152, 1),\n",
              " (153, 1),\n",
              " (156, 1),\n",
              " (160, 1),\n",
              " (164, 1),\n",
              " (165, 2),\n",
              " (166, 1),\n",
              " (168, 1),\n",
              " (169, 1),\n",
              " (170, 2),\n",
              " (171, 1),\n",
              " (175, 1),\n",
              " (176, 1),\n",
              " (178, 1),\n",
              " (181, 1),\n",
              " (183, 2),\n",
              " (184, 1),\n",
              " (185, 1),\n",
              " (186, 1),\n",
              " (191, 1),\n",
              " (192, 2),\n",
              " (193, 1),\n",
              " (194, 2),\n",
              " (196, 1),\n",
              " (198, 1),\n",
              " (199, 3),\n",
              " (206, 2),\n",
              " (210, 1),\n",
              " (212, 1),\n",
              " (216, 1),\n",
              " (217, 1),\n",
              " (218, 1),\n",
              " (222, 1),\n",
              " (223, 1),\n",
              " (224, 1),\n",
              " (225, 1),\n",
              " (227, 3),\n",
              " (229, 1),\n",
              " (233, 1),\n",
              " (238, 2),\n",
              " (239, 1),\n",
              " (241, 2),\n",
              " (242, 1),\n",
              " (243, 1),\n",
              " (244, 1),\n",
              " (245, 2),\n",
              " (247, 2),\n",
              " (250, 2),\n",
              " (251, 1),\n",
              " (252, 1),\n",
              " (253, 1),\n",
              " (254, 1),\n",
              " (256, 2),\n",
              " (257, 1),\n",
              " (261, 2),\n",
              " (262, 1),\n",
              " (263, 1),\n",
              " (264, 1),\n",
              " (265, 1),\n",
              " (267, 1),\n",
              " (271, 1),\n",
              " (275, 1),\n",
              " (279, 1),\n",
              " (280, 2),\n",
              " (281, 1),\n",
              " (282, 1),\n",
              " (283, 1),\n",
              " (285, 1),\n",
              " (287, 1),\n",
              " (290, 1),\n",
              " (292, 1),\n",
              " (293, 1),\n",
              " (294, 2),\n",
              " (295, 1),\n",
              " (296, 1),\n",
              " (301, 1),\n",
              " (302, 1)]"
            ]
          },
          "metadata": {
            "tags": []
          },
          "execution_count": 25
        }
      ]
    },
    {
      "cell_type": "markdown",
      "metadata": {
        "id": "MkpJ8LIM5kkV",
        "colab_type": "text"
      },
      "source": [
        "### On average, how many Items does each Character have? \n",
        "###On average, how many weapons does each Character have?\n",
        "### 898 / 302 = 2.97"
      ]
    },
    {
      "cell_type": "code",
      "metadata": {
        "id": "wxZWc9xPsPmj",
        "colab_type": "code",
        "colab": {
          "base_uri": "https://localhost:8080/",
          "height": 34
        },
        "outputId": "abaae905-1c05-4032-9931-4efcbddafcca"
      },
      "source": [
        "# using division \n",
        "\n",
        "query = \"\"\"SELECT COUNT(item_id) / COUNT(DISTINCT character_id)\n",
        "FROM charactercreator_character_inventory;\"\"\"\n",
        "curs.execute(query)\n",
        "curs.fetchall()"
      ],
      "execution_count": 27,
      "outputs": [
        {
          "output_type": "execute_result",
          "data": {
            "text/plain": [
              "[(2,)]"
            ]
          },
          "metadata": {
            "tags": []
          },
          "execution_count": 27
        }
      ]
    },
    {
      "cell_type": "code",
      "metadata": {
        "id": "Wk3GvzI6sfAN",
        "colab_type": "code",
        "colab": {
          "base_uri": "https://localhost:8080/",
          "height": 34
        },
        "outputId": "ddd77bfc-d1ae-493d-e2ea-015c2bd12bf9"
      },
      "source": [
        "# using division \n",
        "query = \"\"\"SELECT COUNT(item_id) / COUNT(DISTINCT character_id)\n",
        "FROM charactercreator_character_inventory\n",
        "WHERE item_id > 138\"\"\"\n",
        "curs.execute(query)\n",
        "curs.fetchall()"
      ],
      "execution_count": 30,
      "outputs": [
        {
          "output_type": "execute_result",
          "data": {
            "text/plain": [
              "[(1,)]"
            ]
          },
          "metadata": {
            "tags": []
          },
          "execution_count": 30
        }
      ]
    },
    {
      "cell_type": "code",
      "metadata": {
        "id": "jlg3r5zMowr4",
        "colab_type": "code",
        "colab": {}
      },
      "source": [
        "# query = \"\"\"SELECT character_id, AVG(item_id)\n",
        "# FROM charactercreator_character_inventory\n",
        "# WHERE item_id > 138\n",
        "# GROUP BY character_id;\"\"\"\n",
        "# curs.execute(query)\n",
        "# curs.fetchall()"
      ],
      "execution_count": 0,
      "outputs": []
    },
    {
      "cell_type": "code",
      "metadata": {
        "id": "qimJzcAy64Gr",
        "colab_type": "code",
        "colab": {
          "base_uri": "https://localhost:8080/",
          "height": 34
        },
        "outputId": "6c0ae431-1185-4370-b25f-a67f81c1f642"
      },
      "source": [
        "# query = \"\"\"SELECT AVG(item_id)\n",
        "# FROM armory_item\"\"\"\n",
        "# curs.execute(query)\n",
        "# curs.fetchall()"
      ],
      "execution_count": 40,
      "outputs": [
        {
          "output_type": "execute_result",
          "data": {
            "text/plain": [
              "[(87.5,)]"
            ]
          },
          "metadata": {
            "tags": []
          },
          "execution_count": 40
        }
      ]
    },
    {
      "cell_type": "code",
      "metadata": {
        "id": "lM1FO12u7L1B",
        "colab_type": "code",
        "colab": {
          "base_uri": "https://localhost:8080/",
          "height": 34
        },
        "outputId": "e8a52b40-ba31-4f60-9487-e41dfee10408"
      },
      "source": [
        "# query = \"\"\"SELECT AVG(item_ptr_id)\n",
        "# FROM armory_weapon\"\"\"\n",
        "# curs.execute(query)\n",
        "# curs.fetchall()"
      ],
      "execution_count": 41,
      "outputs": [
        {
          "output_type": "execute_result",
          "data": {
            "text/plain": [
              "[(156.0,)]"
            ]
          },
          "metadata": {
            "tags": []
          },
          "execution_count": 41
        }
      ]
    },
    {
      "cell_type": "markdown",
      "metadata": {
        "id": "eKx-Z9fA7oHN",
        "colab_type": "text"
      },
      "source": [
        "# Buddymove Dataset; Assignment 2"
      ]
    },
    {
      "cell_type": "code",
      "metadata": {
        "id": "xiHJJnkq9Vmk",
        "colab_type": "code",
        "colab": {}
      },
      "source": [
        "import pandas as pd\n",
        "from sqlalchemy import create_engine\n",
        "import sqlite3"
      ],
      "execution_count": 0,
      "outputs": []
    },
    {
      "cell_type": "code",
      "metadata": {
        "id": "Hf80pPym9vO1",
        "colab_type": "code",
        "colab": {}
      },
      "source": [
        "# Create in memory SQLite db\n",
        "engine = create_engine('sqlite://', echo=False)"
      ],
      "execution_count": 0,
      "outputs": []
    },
    {
      "cell_type": "code",
      "metadata": {
        "id": "EVKSFVjR7tkc",
        "colab_type": "code",
        "colab": {
          "base_uri": "https://localhost:8080/",
          "height": 34
        },
        "outputId": "46b3308a-15de-4d40-c874-de74f6704bff"
      },
      "source": [
        "\n",
        "df = pd.read_csv('buddymove_holidayiq.csv')\n",
        "df.shape"
      ],
      "execution_count": 3,
      "outputs": [
        {
          "output_type": "execute_result",
          "data": {
            "text/plain": [
              "(249, 7)"
            ]
          },
          "metadata": {
            "tags": []
          },
          "execution_count": 3
        }
      ]
    },
    {
      "cell_type": "code",
      "metadata": {
        "id": "_uiY3PRB8pmP",
        "colab_type": "code",
        "colab": {
          "base_uri": "https://localhost:8080/",
          "height": 204
        },
        "outputId": "173ece7f-765d-42dc-ff77-6cae9832a8f6"
      },
      "source": [
        "# make buddymove_holidayiq.sqlite3 db\n",
        "df.head()"
      ],
      "execution_count": 4,
      "outputs": [
        {
          "output_type": "execute_result",
          "data": {
            "text/html": [
              "<div>\n",
              "<style scoped>\n",
              "    .dataframe tbody tr th:only-of-type {\n",
              "        vertical-align: middle;\n",
              "    }\n",
              "\n",
              "    .dataframe tbody tr th {\n",
              "        vertical-align: top;\n",
              "    }\n",
              "\n",
              "    .dataframe thead th {\n",
              "        text-align: right;\n",
              "    }\n",
              "</style>\n",
              "<table border=\"1\" class=\"dataframe\">\n",
              "  <thead>\n",
              "    <tr style=\"text-align: right;\">\n",
              "      <th></th>\n",
              "      <th>User Id</th>\n",
              "      <th>Sports</th>\n",
              "      <th>Religious</th>\n",
              "      <th>Nature</th>\n",
              "      <th>Theatre</th>\n",
              "      <th>Shopping</th>\n",
              "      <th>Picnic</th>\n",
              "    </tr>\n",
              "  </thead>\n",
              "  <tbody>\n",
              "    <tr>\n",
              "      <th>0</th>\n",
              "      <td>User 1</td>\n",
              "      <td>2</td>\n",
              "      <td>77</td>\n",
              "      <td>79</td>\n",
              "      <td>69</td>\n",
              "      <td>68</td>\n",
              "      <td>95</td>\n",
              "    </tr>\n",
              "    <tr>\n",
              "      <th>1</th>\n",
              "      <td>User 2</td>\n",
              "      <td>2</td>\n",
              "      <td>62</td>\n",
              "      <td>76</td>\n",
              "      <td>76</td>\n",
              "      <td>69</td>\n",
              "      <td>68</td>\n",
              "    </tr>\n",
              "    <tr>\n",
              "      <th>2</th>\n",
              "      <td>User 3</td>\n",
              "      <td>2</td>\n",
              "      <td>50</td>\n",
              "      <td>97</td>\n",
              "      <td>87</td>\n",
              "      <td>50</td>\n",
              "      <td>75</td>\n",
              "    </tr>\n",
              "    <tr>\n",
              "      <th>3</th>\n",
              "      <td>User 4</td>\n",
              "      <td>2</td>\n",
              "      <td>68</td>\n",
              "      <td>77</td>\n",
              "      <td>95</td>\n",
              "      <td>76</td>\n",
              "      <td>61</td>\n",
              "    </tr>\n",
              "    <tr>\n",
              "      <th>4</th>\n",
              "      <td>User 5</td>\n",
              "      <td>2</td>\n",
              "      <td>98</td>\n",
              "      <td>54</td>\n",
              "      <td>59</td>\n",
              "      <td>95</td>\n",
              "      <td>86</td>\n",
              "    </tr>\n",
              "  </tbody>\n",
              "</table>\n",
              "</div>"
            ],
            "text/plain": [
              "  User Id  Sports  Religious  Nature  Theatre  Shopping  Picnic\n",
              "0  User 1       2         77      79       69        68      95\n",
              "1  User 2       2         62      76       76        69      68\n",
              "2  User 3       2         50      97       87        50      75\n",
              "3  User 4       2         68      77       95        76      61\n",
              "4  User 5       2         98      54       59        95      86"
            ]
          },
          "metadata": {
            "tags": []
          },
          "execution_count": 4
        }
      ]
    },
    {
      "cell_type": "code",
      "metadata": {
        "id": "FaRx9cnp-FAq",
        "colab_type": "code",
        "colab": {
          "base_uri": "https://localhost:8080/",
          "height": 323
        },
        "outputId": "5ee8bfc0-e20d-4684-9214-578cf1f3b437"
      },
      "source": [
        "df.to_sql('buddymove_holidayiq', con=engine, index=True, index_label=None)\n",
        "engine.execute(\"SELECT * FROM buddymove_holidayiq\").fetchall()"
      ],
      "execution_count": 12,
      "outputs": [
        {
          "output_type": "error",
          "ename": "ValueError",
          "evalue": "ignored",
          "traceback": [
            "\u001b[0;31m---------------------------------------------------------------------------\u001b[0m",
            "\u001b[0;31mValueError\u001b[0m                                Traceback (most recent call last)",
            "\u001b[0;32m<ipython-input-12-1169ab3204ca>\u001b[0m in \u001b[0;36m<module>\u001b[0;34m()\u001b[0m\n\u001b[0;32m----> 1\u001b[0;31m \u001b[0mdf\u001b[0m\u001b[0;34m.\u001b[0m\u001b[0mto_sql\u001b[0m\u001b[0;34m(\u001b[0m\u001b[0;34m'buddymove_holidayiq'\u001b[0m\u001b[0;34m,\u001b[0m \u001b[0mcon\u001b[0m\u001b[0;34m=\u001b[0m\u001b[0mengine\u001b[0m\u001b[0;34m,\u001b[0m \u001b[0mindex\u001b[0m\u001b[0;34m=\u001b[0m\u001b[0;32mTrue\u001b[0m\u001b[0;34m,\u001b[0m \u001b[0mindex_label\u001b[0m\u001b[0;34m=\u001b[0m\u001b[0;32mNone\u001b[0m\u001b[0;34m)\u001b[0m\u001b[0;34m\u001b[0m\u001b[0;34m\u001b[0m\u001b[0m\n\u001b[0m\u001b[1;32m      2\u001b[0m \u001b[0mengine\u001b[0m\u001b[0;34m.\u001b[0m\u001b[0mexecute\u001b[0m\u001b[0;34m(\u001b[0m\u001b[0;34m\"SELECT * FROM buddymove_holidayiq\"\u001b[0m\u001b[0;34m)\u001b[0m\u001b[0;34m.\u001b[0m\u001b[0mfetchall\u001b[0m\u001b[0;34m(\u001b[0m\u001b[0;34m)\u001b[0m\u001b[0;34m\u001b[0m\u001b[0;34m\u001b[0m\u001b[0m\n",
            "\u001b[0;32m/usr/local/lib/python3.6/dist-packages/pandas/core/generic.py\u001b[0m in \u001b[0;36mto_sql\u001b[0;34m(self, name, con, schema, if_exists, index, index_label, chunksize, dtype, method)\u001b[0m\n\u001b[1;32m   2529\u001b[0m         sql.to_sql(self, name, con, schema=schema, if_exists=if_exists,\n\u001b[1;32m   2530\u001b[0m                    \u001b[0mindex\u001b[0m\u001b[0;34m=\u001b[0m\u001b[0mindex\u001b[0m\u001b[0;34m,\u001b[0m \u001b[0mindex_label\u001b[0m\u001b[0;34m=\u001b[0m\u001b[0mindex_label\u001b[0m\u001b[0;34m,\u001b[0m \u001b[0mchunksize\u001b[0m\u001b[0;34m=\u001b[0m\u001b[0mchunksize\u001b[0m\u001b[0;34m,\u001b[0m\u001b[0;34m\u001b[0m\u001b[0;34m\u001b[0m\u001b[0m\n\u001b[0;32m-> 2531\u001b[0;31m                    dtype=dtype, method=method)\n\u001b[0m\u001b[1;32m   2532\u001b[0m \u001b[0;34m\u001b[0m\u001b[0m\n\u001b[1;32m   2533\u001b[0m     def to_pickle(self, path, compression='infer',\n",
            "\u001b[0;32m/usr/local/lib/python3.6/dist-packages/pandas/io/sql.py\u001b[0m in \u001b[0;36mto_sql\u001b[0;34m(frame, name, con, schema, if_exists, index, index_label, chunksize, dtype, method)\u001b[0m\n\u001b[1;32m    458\u001b[0m     pandas_sql.to_sql(frame, name, if_exists=if_exists, index=index,\n\u001b[1;32m    459\u001b[0m                       \u001b[0mindex_label\u001b[0m\u001b[0;34m=\u001b[0m\u001b[0mindex_label\u001b[0m\u001b[0;34m,\u001b[0m \u001b[0mschema\u001b[0m\u001b[0;34m=\u001b[0m\u001b[0mschema\u001b[0m\u001b[0;34m,\u001b[0m\u001b[0;34m\u001b[0m\u001b[0;34m\u001b[0m\u001b[0m\n\u001b[0;32m--> 460\u001b[0;31m                       chunksize=chunksize, dtype=dtype, method=method)\n\u001b[0m\u001b[1;32m    461\u001b[0m \u001b[0;34m\u001b[0m\u001b[0m\n\u001b[1;32m    462\u001b[0m \u001b[0;34m\u001b[0m\u001b[0m\n",
            "\u001b[0;32m/usr/local/lib/python3.6/dist-packages/pandas/io/sql.py\u001b[0m in \u001b[0;36mto_sql\u001b[0;34m(self, frame, name, if_exists, index, index_label, schema, chunksize, dtype, method)\u001b[0m\n\u001b[1;32m   1171\u001b[0m                          \u001b[0mif_exists\u001b[0m\u001b[0;34m=\u001b[0m\u001b[0mif_exists\u001b[0m\u001b[0;34m,\u001b[0m \u001b[0mindex_label\u001b[0m\u001b[0;34m=\u001b[0m\u001b[0mindex_label\u001b[0m\u001b[0;34m,\u001b[0m\u001b[0;34m\u001b[0m\u001b[0;34m\u001b[0m\u001b[0m\n\u001b[1;32m   1172\u001b[0m                          schema=schema, dtype=dtype)\n\u001b[0;32m-> 1173\u001b[0;31m         \u001b[0mtable\u001b[0m\u001b[0;34m.\u001b[0m\u001b[0mcreate\u001b[0m\u001b[0;34m(\u001b[0m\u001b[0;34m)\u001b[0m\u001b[0;34m\u001b[0m\u001b[0;34m\u001b[0m\u001b[0m\n\u001b[0m\u001b[1;32m   1174\u001b[0m         \u001b[0mtable\u001b[0m\u001b[0;34m.\u001b[0m\u001b[0minsert\u001b[0m\u001b[0;34m(\u001b[0m\u001b[0mchunksize\u001b[0m\u001b[0;34m,\u001b[0m \u001b[0mmethod\u001b[0m\u001b[0;34m=\u001b[0m\u001b[0mmethod\u001b[0m\u001b[0;34m)\u001b[0m\u001b[0;34m\u001b[0m\u001b[0;34m\u001b[0m\u001b[0m\n\u001b[1;32m   1175\u001b[0m         \u001b[0;32mif\u001b[0m \u001b[0;34m(\u001b[0m\u001b[0;32mnot\u001b[0m \u001b[0mname\u001b[0m\u001b[0;34m.\u001b[0m\u001b[0misdigit\u001b[0m\u001b[0;34m(\u001b[0m\u001b[0;34m)\u001b[0m \u001b[0;32mand\u001b[0m \u001b[0;32mnot\u001b[0m \u001b[0mname\u001b[0m\u001b[0;34m.\u001b[0m\u001b[0mislower\u001b[0m\u001b[0;34m(\u001b[0m\u001b[0;34m)\u001b[0m\u001b[0;34m)\u001b[0m\u001b[0;34m:\u001b[0m\u001b[0;34m\u001b[0m\u001b[0;34m\u001b[0m\u001b[0m\n",
            "\u001b[0;32m/usr/local/lib/python3.6/dist-packages/pandas/io/sql.py\u001b[0m in \u001b[0;36mcreate\u001b[0;34m(self)\u001b[0m\n\u001b[1;32m    573\u001b[0m             \u001b[0;32mif\u001b[0m \u001b[0mself\u001b[0m\u001b[0;34m.\u001b[0m\u001b[0mif_exists\u001b[0m \u001b[0;34m==\u001b[0m \u001b[0;34m'fail'\u001b[0m\u001b[0;34m:\u001b[0m\u001b[0;34m\u001b[0m\u001b[0;34m\u001b[0m\u001b[0m\n\u001b[1;32m    574\u001b[0m                 raise ValueError(\n\u001b[0;32m--> 575\u001b[0;31m                     \"Table '{name}' already exists.\".format(name=self.name))\n\u001b[0m\u001b[1;32m    576\u001b[0m             \u001b[0;32melif\u001b[0m \u001b[0mself\u001b[0m\u001b[0;34m.\u001b[0m\u001b[0mif_exists\u001b[0m \u001b[0;34m==\u001b[0m \u001b[0;34m'replace'\u001b[0m\u001b[0;34m:\u001b[0m\u001b[0;34m\u001b[0m\u001b[0;34m\u001b[0m\u001b[0m\n\u001b[1;32m    577\u001b[0m                 \u001b[0mself\u001b[0m\u001b[0;34m.\u001b[0m\u001b[0mpd_sql\u001b[0m\u001b[0;34m.\u001b[0m\u001b[0mdrop_table\u001b[0m\u001b[0;34m(\u001b[0m\u001b[0mself\u001b[0m\u001b[0;34m.\u001b[0m\u001b[0mname\u001b[0m\u001b[0;34m,\u001b[0m \u001b[0mself\u001b[0m\u001b[0;34m.\u001b[0m\u001b[0mschema\u001b[0m\u001b[0;34m)\u001b[0m\u001b[0;34m\u001b[0m\u001b[0;34m\u001b[0m\u001b[0m\n",
            "\u001b[0;31mValueError\u001b[0m: Table 'buddymove_holidayiq' already exists."
          ]
        }
      ]
    },
    {
      "cell_type": "code",
      "metadata": {
        "id": "18c2YZnV9fm2",
        "colab_type": "code",
        "colab": {}
      },
      "source": [
        "# engconn = sqlite3.connect('buddymove_holidayiq.sqlite3')\n",
        "# curs = engconn.cursor()"
      ],
      "execution_count": 0,
      "outputs": []
    },
    {
      "cell_type": "code",
      "metadata": {
        "id": "-XiuM8G19o0C",
        "colab_type": "code",
        "colab": {}
      },
      "source": [
        "# query = \"\"\"SELECT *\n",
        "# FROM Nature\"\"\"\n",
        "# curs.execute(query)\n",
        "# curs.fetchall()"
      ],
      "execution_count": 0,
      "outputs": []
    },
    {
      "cell_type": "code",
      "metadata": {
        "id": "Z0q92jJVIu-O",
        "colab_type": "code",
        "colab": {
          "base_uri": "https://localhost:8080/",
          "height": 163
        },
        "outputId": "d66e72cd-b9a0-4934-c38d-217231a7d038"
      },
      "source": [
        "engine.commit()"
      ],
      "execution_count": 6,
      "outputs": [
        {
          "output_type": "error",
          "ename": "AttributeError",
          "evalue": "ignored",
          "traceback": [
            "\u001b[0;31m---------------------------------------------------------------------------\u001b[0m",
            "\u001b[0;31mAttributeError\u001b[0m                            Traceback (most recent call last)",
            "\u001b[0;32m<ipython-input-6-503179b931b4>\u001b[0m in \u001b[0;36m<module>\u001b[0;34m()\u001b[0m\n\u001b[0;32m----> 1\u001b[0;31m \u001b[0mengine\u001b[0m\u001b[0;34m.\u001b[0m\u001b[0mcommit\u001b[0m\u001b[0;34m(\u001b[0m\u001b[0;34m)\u001b[0m\u001b[0;34m\u001b[0m\u001b[0;34m\u001b[0m\u001b[0m\n\u001b[0m",
            "\u001b[0;31mAttributeError\u001b[0m: 'Engine' object has no attribute 'commit'"
          ]
        }
      ]
    },
    {
      "cell_type": "code",
      "metadata": {
        "id": "Zim2x6-k8Ipo",
        "colab_type": "code",
        "colab": {}
      },
      "source": [
        "engine.close()"
      ],
      "execution_count": 0,
      "outputs": []
    },
    {
      "cell_type": "code",
      "metadata": {
        "id": "T1ruo9uA4Dau",
        "colab_type": "code",
        "outputId": "027ec87a-a67d-439c-a844-38f0ba27f047",
        "colab": {
          "base_uri": "https://localhost:8080/",
          "height": 122
        }
      },
      "source": [
        "!pip install psycopg2-binary"
      ],
      "execution_count": 0,
      "outputs": [
        {
          "output_type": "stream",
          "text": [
            "Collecting psycopg2-binary\n",
            "\u001b[?25l  Downloading https://files.pythonhosted.org/packages/b1/35/75c9c2d9cfc073ab6c42b2d8e91ff58c9b99f4ed7ed56b36647642e6080e/psycopg2_binary-2.8.3-cp36-cp36m-manylinux1_x86_64.whl (2.9MB)\n",
            "\u001b[K     |████████████████████████████████| 2.9MB 2.8MB/s \n",
            "\u001b[?25hInstalling collected packages: psycopg2-binary\n",
            "Successfully installed psycopg2-binary-2.8.3\n"
          ],
          "name": "stdout"
        }
      ]
    }
  ]
}